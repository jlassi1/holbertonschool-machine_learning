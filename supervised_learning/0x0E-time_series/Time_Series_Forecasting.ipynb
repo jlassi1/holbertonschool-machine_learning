{
  "nbformat": 4,
  "nbformat_minor": 0,
  "metadata": {
    "colab": {
      "name": "Time_Series_Forecasting.ipynb",
      "provenance": [],
      "collapsed_sections": []
    },
    "kernelspec": {
      "name": "python3",
      "display_name": "Python 3"
    },
    "language_info": {
      "name": "python"
    },
    "accelerator": "GPU"
  },
  "cells": [
    {
      "cell_type": "markdown",
      "metadata": {
        "id": "Hd8fW3Y2iSQ6"
      },
      "source": [
        "# 0x0E.Time Series Forecasting - Forecast Bitcoin\n",
        "\n",
        "\n"
      ]
    },
    {
      "cell_type": "markdown",
      "metadata": {
        "id": "88wPT4ZbiWCD"
      },
      "source": [
        "import of library"
      ]
    },
    {
      "cell_type": "code",
      "metadata": {
        "id": "uFnnCPpZiutk"
      },
      "source": [
        "import os\n",
        "import datetime\n",
        "\n",
        "import IPython\n",
        "import IPython.display\n",
        "import matplotlib as mpl\n",
        "import matplotlib.pyplot as plt\n",
        "import numpy as np\n",
        "import pandas as pd\n",
        "import seaborn as sns\n",
        "import tensorflow as tf\n",
        "import tensorflow.keras as K\n",
        "\n",
        "\n"
      ],
      "execution_count": 2,
      "outputs": []
    },
    {
      "cell_type": "markdown",
      "metadata": {
        "id": "4Z-uYcHJjEgU"
      },
      "source": [
        "## preprocessing the data "
      ]
    },
    {
      "cell_type": "code",
      "metadata": {
        "colab": {
          "base_uri": "https://localhost:8080/",
          "height": 318
        },
        "id": "sbSa3ZNTjcEV",
        "outputId": "9231cc00-4fa6-49d8-a046-04a15b52e873"
      },
      "source": [
        "# Extract dataframe from csv and visualize it\n",
        "coinbase_df = pd.read_csv('coinbaseUSD_1-min_data_2014-12-01_to_2019-01-09.csv.zip')\n",
        "print(coinbase_df.shape)\n",
        "coinbase_df.describe()\n"
      ],
      "execution_count": 3,
      "outputs": [
        {
          "output_type": "stream",
          "text": [
            "(2099760, 8)\n"
          ],
          "name": "stdout"
        },
        {
          "output_type": "execute_result",
          "data": {
            "text/html": [
              "<div>\n",
              "<style scoped>\n",
              "    .dataframe tbody tr th:only-of-type {\n",
              "        vertical-align: middle;\n",
              "    }\n",
              "\n",
              "    .dataframe tbody tr th {\n",
              "        vertical-align: top;\n",
              "    }\n",
              "\n",
              "    .dataframe thead th {\n",
              "        text-align: right;\n",
              "    }\n",
              "</style>\n",
              "<table border=\"1\" class=\"dataframe\">\n",
              "  <thead>\n",
              "    <tr style=\"text-align: right;\">\n",
              "      <th></th>\n",
              "      <th>Timestamp</th>\n",
              "      <th>Open</th>\n",
              "      <th>High</th>\n",
              "      <th>Low</th>\n",
              "      <th>Close</th>\n",
              "      <th>Volume_(BTC)</th>\n",
              "      <th>Volume_(Currency)</th>\n",
              "      <th>Weighted_Price</th>\n",
              "    </tr>\n",
              "  </thead>\n",
              "  <tbody>\n",
              "    <tr>\n",
              "      <th>count</th>\n",
              "      <td>2.099760e+06</td>\n",
              "      <td>1.990691e+06</td>\n",
              "      <td>1.990691e+06</td>\n",
              "      <td>1.990691e+06</td>\n",
              "      <td>1.990691e+06</td>\n",
              "      <td>1.990691e+06</td>\n",
              "      <td>1.990691e+06</td>\n",
              "      <td>1.990691e+06</td>\n",
              "    </tr>\n",
              "    <tr>\n",
              "      <th>mean</th>\n",
              "      <td>1.483899e+09</td>\n",
              "      <td>3.246403e+03</td>\n",
              "      <td>3.247829e+03</td>\n",
              "      <td>3.244856e+03</td>\n",
              "      <td>3.246403e+03</td>\n",
              "      <td>7.849139e+00</td>\n",
              "      <td>3.600157e+04</td>\n",
              "      <td>3.246341e+03</td>\n",
              "    </tr>\n",
              "    <tr>\n",
              "      <th>std</th>\n",
              "      <td>3.638214e+07</td>\n",
              "      <td>3.799154e+03</td>\n",
              "      <td>3.801394e+03</td>\n",
              "      <td>3.796761e+03</td>\n",
              "      <td>3.799150e+03</td>\n",
              "      <td>1.873222e+01</td>\n",
              "      <td>1.401879e+05</td>\n",
              "      <td>3.799078e+03</td>\n",
              "    </tr>\n",
              "    <tr>\n",
              "      <th>min</th>\n",
              "      <td>1.417412e+09</td>\n",
              "      <td>6.000000e-02</td>\n",
              "      <td>6.000000e-02</td>\n",
              "      <td>6.000000e-02</td>\n",
              "      <td>6.000000e-02</td>\n",
              "      <td>1.000000e-08</td>\n",
              "      <td>2.641700e-06</td>\n",
              "      <td>6.000000e-02</td>\n",
              "    </tr>\n",
              "    <tr>\n",
              "      <th>25%</th>\n",
              "      <td>1.452410e+09</td>\n",
              "      <td>4.195800e+02</td>\n",
              "      <td>4.196400e+02</td>\n",
              "      <td>4.195000e+02</td>\n",
              "      <td>4.195700e+02</td>\n",
              "      <td>9.024000e-01</td>\n",
              "      <td>6.440031e+02</td>\n",
              "      <td>4.195645e+02</td>\n",
              "    </tr>\n",
              "    <tr>\n",
              "      <th>50%</th>\n",
              "      <td>1.483906e+09</td>\n",
              "      <td>1.014580e+03</td>\n",
              "      <td>1.014890e+03</td>\n",
              "      <td>1.014150e+03</td>\n",
              "      <td>1.014530e+03</td>\n",
              "      <td>2.692900e+00</td>\n",
              "      <td>3.695642e+03</td>\n",
              "      <td>1.014512e+03</td>\n",
              "    </tr>\n",
              "    <tr>\n",
              "      <th>75%</th>\n",
              "      <td>1.515402e+09</td>\n",
              "      <td>6.322630e+03</td>\n",
              "      <td>6.324010e+03</td>\n",
              "      <td>6.321090e+03</td>\n",
              "      <td>6.322670e+03</td>\n",
              "      <td>7.600965e+00</td>\n",
              "      <td>1.972392e+04</td>\n",
              "      <td>6.322550e+03</td>\n",
              "    </tr>\n",
              "    <tr>\n",
              "      <th>max</th>\n",
              "      <td>1.546899e+09</td>\n",
              "      <td>1.989199e+04</td>\n",
              "      <td>1.989199e+04</td>\n",
              "      <td>1.989198e+04</td>\n",
              "      <td>1.989199e+04</td>\n",
              "      <td>1.563267e+03</td>\n",
              "      <td>1.997076e+07</td>\n",
              "      <td>1.989199e+04</td>\n",
              "    </tr>\n",
              "  </tbody>\n",
              "</table>\n",
              "</div>"
            ],
            "text/plain": [
              "          Timestamp          Open  ...  Volume_(Currency)  Weighted_Price\n",
              "count  2.099760e+06  1.990691e+06  ...       1.990691e+06    1.990691e+06\n",
              "mean   1.483899e+09  3.246403e+03  ...       3.600157e+04    3.246341e+03\n",
              "std    3.638214e+07  3.799154e+03  ...       1.401879e+05    3.799078e+03\n",
              "min    1.417412e+09  6.000000e-02  ...       2.641700e-06    6.000000e-02\n",
              "25%    1.452410e+09  4.195800e+02  ...       6.440031e+02    4.195645e+02\n",
              "50%    1.483906e+09  1.014580e+03  ...       3.695642e+03    1.014512e+03\n",
              "75%    1.515402e+09  6.322630e+03  ...       1.972392e+04    6.322550e+03\n",
              "max    1.546899e+09  1.989199e+04  ...       1.997076e+07    1.989199e+04\n",
              "\n",
              "[8 rows x 8 columns]"
            ]
          },
          "metadata": {
            "tags": []
          },
          "execution_count": 3
        }
      ]
    },
    {
      "cell_type": "code",
      "metadata": {
        "colab": {
          "base_uri": "https://localhost:8080/"
        },
        "id": "cRpAMd5rj9Qh",
        "outputId": "0adaa8ed-d2ca-4e0a-84bc-e37030502f3b"
      },
      "source": [
        "# Dealing with missing values \n",
        "print(coinbase_df.isna().sum())\n",
        "df = coinbase_df.dropna()\n",
        "print('-----------------------------')\n",
        "df.isna().sum()"
      ],
      "execution_count": 4,
      "outputs": [
        {
          "output_type": "stream",
          "text": [
            "Timestamp                 0\n",
            "Open                 109069\n",
            "High                 109069\n",
            "Low                  109069\n",
            "Close                109069\n",
            "Volume_(BTC)         109069\n",
            "Volume_(Currency)    109069\n",
            "Weighted_Price       109069\n",
            "dtype: int64\n",
            "-----------------------------\n"
          ],
          "name": "stdout"
        },
        {
          "output_type": "execute_result",
          "data": {
            "text/plain": [
              "Timestamp            0\n",
              "Open                 0\n",
              "High                 0\n",
              "Low                  0\n",
              "Close                0\n",
              "Volume_(BTC)         0\n",
              "Volume_(Currency)    0\n",
              "Weighted_Price       0\n",
              "dtype: int64"
            ]
          },
          "metadata": {
            "tags": []
          },
          "execution_count": 4
        }
      ]
    },
    {
      "cell_type": "code",
      "metadata": {
        "colab": {
          "base_uri": "https://localhost:8080/",
          "height": 310
        },
        "id": "bw-XZSFIkKfN",
        "outputId": "2d1bdf8d-9629-44c2-ef67-b0f652349aeb"
      },
      "source": [
        "# Encode the date\n",
        "df['date'] = [datetime.datetime.utcfromtimestamp(x) for x in df['Timestamp']]\n",
        "date_time = pd.to_datetime(df.pop('Timestamp'), unit='s')\n",
        "date = date_time.map(datetime.datetime.timestamp)\n",
        "\n",
        "df.head()"
      ],
      "execution_count": 5,
      "outputs": [
        {
          "output_type": "stream",
          "text": [
            "/usr/local/lib/python3.7/dist-packages/ipykernel_launcher.py:2: SettingWithCopyWarning: \n",
            "A value is trying to be set on a copy of a slice from a DataFrame.\n",
            "Try using .loc[row_indexer,col_indexer] = value instead\n",
            "\n",
            "See the caveats in the documentation: https://pandas.pydata.org/pandas-docs/stable/user_guide/indexing.html#returning-a-view-versus-a-copy\n",
            "  \n"
          ],
          "name": "stderr"
        },
        {
          "output_type": "execute_result",
          "data": {
            "text/html": [
              "<div>\n",
              "<style scoped>\n",
              "    .dataframe tbody tr th:only-of-type {\n",
              "        vertical-align: middle;\n",
              "    }\n",
              "\n",
              "    .dataframe tbody tr th {\n",
              "        vertical-align: top;\n",
              "    }\n",
              "\n",
              "    .dataframe thead th {\n",
              "        text-align: right;\n",
              "    }\n",
              "</style>\n",
              "<table border=\"1\" class=\"dataframe\">\n",
              "  <thead>\n",
              "    <tr style=\"text-align: right;\">\n",
              "      <th></th>\n",
              "      <th>Open</th>\n",
              "      <th>High</th>\n",
              "      <th>Low</th>\n",
              "      <th>Close</th>\n",
              "      <th>Volume_(BTC)</th>\n",
              "      <th>Volume_(Currency)</th>\n",
              "      <th>Weighted_Price</th>\n",
              "      <th>date</th>\n",
              "    </tr>\n",
              "  </thead>\n",
              "  <tbody>\n",
              "    <tr>\n",
              "      <th>0</th>\n",
              "      <td>300.0</td>\n",
              "      <td>300.0</td>\n",
              "      <td>300.0</td>\n",
              "      <td>300.0</td>\n",
              "      <td>0.010000</td>\n",
              "      <td>3.00000</td>\n",
              "      <td>300.0</td>\n",
              "      <td>2014-12-01 05:33:00</td>\n",
              "    </tr>\n",
              "    <tr>\n",
              "      <th>7</th>\n",
              "      <td>300.0</td>\n",
              "      <td>300.0</td>\n",
              "      <td>300.0</td>\n",
              "      <td>300.0</td>\n",
              "      <td>0.010000</td>\n",
              "      <td>3.00000</td>\n",
              "      <td>300.0</td>\n",
              "      <td>2014-12-01 05:40:00</td>\n",
              "    </tr>\n",
              "    <tr>\n",
              "      <th>51</th>\n",
              "      <td>370.0</td>\n",
              "      <td>370.0</td>\n",
              "      <td>370.0</td>\n",
              "      <td>370.0</td>\n",
              "      <td>0.010000</td>\n",
              "      <td>3.70000</td>\n",
              "      <td>370.0</td>\n",
              "      <td>2014-12-01 06:24:00</td>\n",
              "    </tr>\n",
              "    <tr>\n",
              "      <th>77</th>\n",
              "      <td>370.0</td>\n",
              "      <td>370.0</td>\n",
              "      <td>370.0</td>\n",
              "      <td>370.0</td>\n",
              "      <td>0.026556</td>\n",
              "      <td>9.82555</td>\n",
              "      <td>370.0</td>\n",
              "      <td>2014-12-01 06:50:00</td>\n",
              "    </tr>\n",
              "    <tr>\n",
              "      <th>1436</th>\n",
              "      <td>377.0</td>\n",
              "      <td>377.0</td>\n",
              "      <td>377.0</td>\n",
              "      <td>377.0</td>\n",
              "      <td>0.010000</td>\n",
              "      <td>3.77000</td>\n",
              "      <td>377.0</td>\n",
              "      <td>2014-12-02 05:29:00</td>\n",
              "    </tr>\n",
              "  </tbody>\n",
              "</table>\n",
              "</div>"
            ],
            "text/plain": [
              "       Open   High  ...  Weighted_Price                date\n",
              "0     300.0  300.0  ...           300.0 2014-12-01 05:33:00\n",
              "7     300.0  300.0  ...           300.0 2014-12-01 05:40:00\n",
              "51    370.0  370.0  ...           370.0 2014-12-01 06:24:00\n",
              "77    370.0  370.0  ...           370.0 2014-12-01 06:50:00\n",
              "1436  377.0  377.0  ...           377.0 2014-12-02 05:29:00\n",
              "\n",
              "[5 rows x 8 columns]"
            ]
          },
          "metadata": {
            "tags": []
          },
          "execution_count": 5
        }
      ]
    },
    {
      "cell_type": "code",
      "metadata": {
        "colab": {
          "base_uri": "https://localhost:8080/",
          "height": 537
        },
        "id": "ML74CM0FZGd9",
        "outputId": "bde6ff3e-52c6-41c5-ba6e-c95b0ab48f36"
      },
      "source": [
        "# Visualize the data\n",
        "plot_cols = ['Volume_(BTC)', 'Volume_(Currency)', 'Weighted_Price']\n",
        "plot_features = df[plot_cols]\n",
        "plot_features.index = df['date']\n",
        "_ = plot_features.plot(subplots=True)\n",
        "# regroupe the data and concentret on the pic\n",
        "df = df[8::60]\n",
        "date_time = date_time[8::60]\n",
        "df = df[df['date'] >= '2017']\n",
        "# re-visualising the data \n",
        "plot_cols = ['Volume_(BTC)', 'Volume_(Currency)', 'Weighted_Price']\n",
        "plot_features = df[plot_cols]\n",
        "plot_features.index = df['date']\n",
        "_ = plot_features.plot(subplots=True)\n"
      ],
      "execution_count": 6,
      "outputs": [
        {
          "output_type": "display_data",
          "data": {
            "image/png": "[encoded data removed]",
            "text/plain": [
              "<Figure size 432x288 with 3 Axes>"
            ]
          },
          "metadata": {
            "tags": [],
            "needs_background": "light"
          }
        },
        {
          "output_type": "display_data",
          "data": {
            "image/png": "[encoded data removed]",
            "text/plain": [
              "<Figure size 432x288 with 3 Axes>"
            ]
          },
          "metadata": {
            "tags": [],
            "needs_background": "light"
          }
        }
      ]
    },
    {
      "cell_type": "code",
      "metadata": {
        "colab": {
          "base_uri": "https://localhost:8080/",
          "height": 424
        },
        "id": "Byh3N3waYX3g",
        "outputId": "2bf8afac-da41-489f-ff9a-5ea01b0a43db"
      },
      "source": [
        "# Split the data\n",
        "#(70%, 20%, 10%) split for the training, validation, and test sets.\n",
        "\n",
        "n = len(df)\n",
        "column_indices = {name: i for i, name in enumerate(df.columns)}\n",
        "\n",
        "train_df = df[0:int(n*0.7)]\n",
        "val_df = df[int(n*0.7):int(n*0.9)]\n",
        "test_df = df[int(n*0.9):]\n",
        "\n",
        "\n",
        "num_features = df.shape[1]\n",
        "\n",
        "# Min-Max normalization\n",
        "train_df = (train_df-train_df.min())/(train_df.max()-train_df.min())\n",
        "val_df = (val_df-val_df.min())/(val_df.max()-val_df.min())\n",
        "test_df = (test_df-test_df.min())/(test_df.max()-test_df.min())\n",
        "\n",
        "train_df"
      ],
      "execution_count": 7,
      "outputs": [
        {
          "output_type": "execute_result",
          "data": {
            "text/html": [
              "<div>\n",
              "<style scoped>\n",
              "    .dataframe tbody tr th:only-of-type {\n",
              "        vertical-align: middle;\n",
              "    }\n",
              "\n",
              "    .dataframe tbody tr th {\n",
              "        vertical-align: top;\n",
              "    }\n",
              "\n",
              "    .dataframe thead th {\n",
              "        text-align: right;\n",
              "    }\n",
              "</style>\n",
              "<table border=\"1\" class=\"dataframe\">\n",
              "  <thead>\n",
              "    <tr style=\"text-align: right;\">\n",
              "      <th></th>\n",
              "      <th>Open</th>\n",
              "      <th>High</th>\n",
              "      <th>Low</th>\n",
              "      <th>Close</th>\n",
              "      <th>Volume_(BTC)</th>\n",
              "      <th>Volume_(Currency)</th>\n",
              "      <th>Weighted_Price</th>\n",
              "      <th>date</th>\n",
              "    </tr>\n",
              "  </thead>\n",
              "  <tbody>\n",
              "    <tr>\n",
              "      <th>1038661</th>\n",
              "      <td>0.0113851</td>\n",
              "      <td>0.011402</td>\n",
              "      <td>0.0113851</td>\n",
              "      <td>0.0114041</td>\n",
              "      <td>0.000923761</td>\n",
              "      <td>0.000193988</td>\n",
              "      <td>0.0113974</td>\n",
              "      <td>0.000000</td>\n",
              "    </tr>\n",
              "    <tr>\n",
              "      <th>1038737</th>\n",
              "      <td>0.011359</td>\n",
              "      <td>0.0113774</td>\n",
              "      <td>0.0113543</td>\n",
              "      <td>0.011347</td>\n",
              "      <td>0.00162791</td>\n",
              "      <td>0.00034155</td>\n",
              "      <td>0.0113516</td>\n",
              "      <td>0.000102</td>\n",
              "    </tr>\n",
              "    <tr>\n",
              "      <th>1038799</th>\n",
              "      <td>0.0111942</td>\n",
              "      <td>0.0112257</td>\n",
              "      <td>0.0111843</td>\n",
              "      <td>0.0111786</td>\n",
              "      <td>0.00466384</td>\n",
              "      <td>0.000975648</td>\n",
              "      <td>0.0112028</td>\n",
              "      <td>0.000185</td>\n",
              "    </tr>\n",
              "    <tr>\n",
              "      <th>1038859</th>\n",
              "      <td>0.0111994</td>\n",
              "      <td>0.0111943</td>\n",
              "      <td>0.0111686</td>\n",
              "      <td>0.0111964</td>\n",
              "      <td>0.00441235</td>\n",
              "      <td>0.000922507</td>\n",
              "      <td>0.0111737</td>\n",
              "      <td>0.000266</td>\n",
              "    </tr>\n",
              "    <tr>\n",
              "      <th>1038920</th>\n",
              "      <td>0.0111027</td>\n",
              "      <td>0.0110949</td>\n",
              "      <td>0.0111016</td>\n",
              "      <td>0.0110949</td>\n",
              "      <td>0.00290442</td>\n",
              "      <td>0.000606306</td>\n",
              "      <td>0.011096</td>\n",
              "      <td>0.000348</td>\n",
              "    </tr>\n",
              "    <tr>\n",
              "      <th>...</th>\n",
              "      <td>...</td>\n",
              "      <td>...</td>\n",
              "      <td>...</td>\n",
              "      <td>...</td>\n",
              "      <td>...</td>\n",
              "      <td>...</td>\n",
              "      <td>...</td>\n",
              "      <td>...</td>\n",
              "    </tr>\n",
              "    <tr>\n",
              "      <th>1783581</th>\n",
              "      <td>0.362121</td>\n",
              "      <td>0.362116</td>\n",
              "      <td>0.361682</td>\n",
              "      <td>0.361677</td>\n",
              "      <td>0.00609961</td>\n",
              "      <td>0.0101165</td>\n",
              "      <td>0.362069</td>\n",
              "      <td>0.999678</td>\n",
              "    </tr>\n",
              "    <tr>\n",
              "      <th>1783641</th>\n",
              "      <td>0.359715</td>\n",
              "      <td>0.359709</td>\n",
              "      <td>0.359715</td>\n",
              "      <td>0.35971</td>\n",
              "      <td>0.00139859</td>\n",
              "      <td>0.002306</td>\n",
              "      <td>0.359711</td>\n",
              "      <td>0.999758</td>\n",
              "    </tr>\n",
              "    <tr>\n",
              "      <th>1783701</th>\n",
              "      <td>0.361232</td>\n",
              "      <td>0.361226</td>\n",
              "      <td>0.361232</td>\n",
              "      <td>0.361228</td>\n",
              "      <td>0.000227287</td>\n",
              "      <td>0.000376176</td>\n",
              "      <td>0.361228</td>\n",
              "      <td>0.999839</td>\n",
              "    </tr>\n",
              "    <tr>\n",
              "      <th>1783761</th>\n",
              "      <td>0.36049</td>\n",
              "      <td>0.360484</td>\n",
              "      <td>0.36049</td>\n",
              "      <td>0.360486</td>\n",
              "      <td>0.000186762</td>\n",
              "      <td>0.000308532</td>\n",
              "      <td>0.360486</td>\n",
              "      <td>0.999919</td>\n",
              "    </tr>\n",
              "    <tr>\n",
              "      <th>1783821</th>\n",
              "      <td>0.360009</td>\n",
              "      <td>0.360003</td>\n",
              "      <td>0.359967</td>\n",
              "      <td>0.359963</td>\n",
              "      <td>0.00154924</td>\n",
              "      <td>0.00255604</td>\n",
              "      <td>0.35997</td>\n",
              "      <td>1.000000</td>\n",
              "    </tr>\n",
              "  </tbody>\n",
              "</table>\n",
              "<p>12233 rows × 8 columns</p>\n",
              "</div>"
            ],
            "text/plain": [
              "              Open       High  ... Weighted_Price      date\n",
              "1038661  0.0113851   0.011402  ...      0.0113974  0.000000\n",
              "1038737   0.011359  0.0113774  ...      0.0113516  0.000102\n",
              "1038799  0.0111942  0.0112257  ...      0.0112028  0.000185\n",
              "1038859  0.0111994  0.0111943  ...      0.0111737  0.000266\n",
              "1038920  0.0111027  0.0110949  ...       0.011096  0.000348\n",
              "...            ...        ...  ...            ...       ...\n",
              "1783581   0.362121   0.362116  ...       0.362069  0.999678\n",
              "1783641   0.359715   0.359709  ...       0.359711  0.999758\n",
              "1783701   0.361232   0.361226  ...       0.361228  0.999839\n",
              "1783761    0.36049   0.360484  ...       0.360486  0.999919\n",
              "1783821   0.360009   0.360003  ...        0.35997  1.000000\n",
              "\n",
              "[12233 rows x 8 columns]"
            ]
          },
          "metadata": {
            "tags": []
          },
          "execution_count": 7
        }
      ]
    },
    {
      "cell_type": "markdown",
      "metadata": {
        "id": "qbtiCUhNZu_F"
      },
      "source": [
        "## Data windowing\n",
        "\n",
        "> 1. Indexes and offsets\n",
        "\n",
        "> 2. Split\n",
        "\n",
        "> 3. Create tf.data.Datasets\n",
        "\n",
        "> 4. Plot\n",
        "\n"
      ]
    },
    {
      "cell_type": "code",
      "metadata": {
        "id": "KF3VNFXQZrxz"
      },
      "source": [
        "# Ceating the WindowGenerator class\n",
        "# -----------------------------------------------------------------------------\n",
        "class WindowGenerator():\n",
        "  def __init__(self, input_width, label_width, shift,\n",
        "               train_df=train_df, val_df=val_df, test_df=test_df,\n",
        "               label_columns=None):\n",
        "    # Store the raw data.\n",
        "    self.train_df = train_df\n",
        "    self.val_df = val_df\n",
        "    self.test_df = test_df\n",
        "\n",
        "    # Work out the label column indices.\n",
        "    self.label_columns = label_columns\n",
        "    if label_columns is not None:\n",
        "      self.label_columns_indices = {name: i for i, name in\n",
        "                                    enumerate(label_columns)}\n",
        "    self.column_indices = {name: i for i, name in\n",
        "                           enumerate(train_df.columns)}\n",
        "\n",
        "    # Work out the window parameters.\n",
        "    self.input_width = input_width\n",
        "    self.label_width = label_width\n",
        "    self.shift = shift\n",
        "\n",
        "    self.total_window_size = input_width + shift\n",
        "\n",
        "    self.input_slice = slice(0, input_width)\n",
        "    self.input_indices = np.arange(self.total_window_size)[self.input_slice]\n",
        "\n",
        "    self.label_start = self.total_window_size - self.label_width\n",
        "    self.labels_slice = slice(self.label_start, None)\n",
        "    self.label_indices = np.arange(self.total_window_size)[self.labels_slice]\n",
        "\n",
        "  def __repr__(self):\n",
        "    return '\\n'.join([\n",
        "        f'Total window size: {self.total_window_size}',\n",
        "        f'Input indices: {self.input_indices}',\n",
        "        f'Label indices: {self.label_indices}',\n",
        "        f'Label column name(s): {self.label_columns}'])\n"
      ],
      "execution_count": 8,
      "outputs": []
    },
    {
      "cell_type": "code",
      "metadata": {
        "colab": {
          "base_uri": "https://localhost:8080/"
        },
        "id": "ZQJAKps0bWcH",
        "outputId": "087e2c7f-47b6-4030-8c88-f42b6d4d4416"
      },
      "source": [
        "w1 = WindowGenerator(\n",
        "    input_width=24, label_width=1, shift=1,\n",
        "    label_columns=['Weighted_Price'])\n",
        "\n",
        "w1"
      ],
      "execution_count": 9,
      "outputs": [
        {
          "output_type": "execute_result",
          "data": {
            "text/plain": [
              "Total window size: 25\n",
              "Input indices: [ 0  1  2  3  4  5  6  7  8  9 10 11 12 13 14 15 16 17 18 19 20 21 22 23]\n",
              "Label indices: [24]\n",
              "Label column name(s): ['Weighted_Price']"
            ]
          },
          "metadata": {
            "tags": []
          },
          "execution_count": 9
        }
      ]
    },
    {
      "cell_type": "code",
      "metadata": {
        "id": "KKN2w5rAbdhz"
      },
      "source": [
        "# Split to window\n",
        "# -----------------------------------------------------------------------------\n",
        "def split_window(self, features):\n",
        "  inputs = features[:, self.input_slice, :]\n",
        "  labels = features[:, self.labels_slice, :]\n",
        "  if self.label_columns is not None:\n",
        "    labels = tf.stack(\n",
        "        [labels[:, :, self.column_indices[name]] for name in self.label_columns],\n",
        "        axis=-1)\n",
        "\n",
        "  # Slicing doesn't preserve static shape information, so set the shapes\n",
        "  # manually. This way the `tf.data.Datasets` are easier to inspect.\n",
        "  inputs.set_shape([None, self.input_width, None])\n",
        "  labels.set_shape([None, self.label_width, None])\n",
        "\n",
        "  return inputs, labels\n",
        "\n",
        "WindowGenerator.split_window = split_window"
      ],
      "execution_count": 10,
      "outputs": []
    },
    {
      "cell_type": "code",
      "metadata": {
        "colab": {
          "base_uri": "https://localhost:8080/"
        },
        "id": "5ce4O03Bb6vG",
        "outputId": "a018955a-aec5-49f0-a13f-20a884332c40"
      },
      "source": [
        "# Stack three slices, the length of the total window:\n",
        "example_window = tf.stack([np.array(train_df[:w1.total_window_size]),\n",
        "                           np.array(train_df[100:100+w1.total_window_size]),\n",
        "                           np.array(train_df[200:200+w1.total_window_size])])\n",
        "\n",
        "\n",
        "example_inputs, example_labels = w1.split_window(example_window)\n",
        "\n",
        "print('All shapes are: (batch, time, features)')\n",
        "print(f'Window shape: {example_window.shape}')\n",
        "print(f'Inputs shape: {example_inputs.shape}')\n",
        "print(f'labels shape: {example_labels.shape}')\n"
      ],
      "execution_count": 11,
      "outputs": [
        {
          "output_type": "stream",
          "text": [
            "All shapes are: (batch, time, features)\n",
            "Window shape: (3, 25, 8)\n",
            "Inputs shape: (3, 24, 8)\n",
            "labels shape: (3, 1, 1)\n"
          ],
          "name": "stdout"
        }
      ]
    },
    {
      "cell_type": "code",
      "metadata": {
        "id": "VA6iFD7TckqB"
      },
      "source": [
        "# Create tf.data.Datasets\n",
        "# -----------------------------------------------------------------------------\n",
        "\n",
        "def make_dataset(self, data):\n",
        "  data = np.array(data, dtype=np.float32)\n",
        "  ds = tf.keras.preprocessing.timeseries_dataset_from_array(\n",
        "      data=data,\n",
        "      targets=None,\n",
        "      sequence_length=self.total_window_size,\n",
        "      sequence_stride=1,\n",
        "      shuffle=True,\n",
        "      batch_size=32,)\n",
        "\n",
        "  ds = ds.map(self.split_window)\n",
        "\n",
        "  return ds\n",
        "\n",
        "WindowGenerator.make_dataset = make_dataset\n",
        "\n",
        "\n",
        "@property\n",
        "def train(self):\n",
        "  return self.make_dataset(self.train_df)\n",
        "\n",
        "@property\n",
        "def val(self):\n",
        "  return self.make_dataset(self.val_df)\n",
        "\n",
        "@property\n",
        "def test(self):\n",
        "  return self.make_dataset(self.test_df)\n",
        "\n",
        "@property\n",
        "def example(self):\n",
        "  \"\"\"Get and cache an example batch of `inputs, labels` for plotting.\"\"\"\n",
        "  result = getattr(self, '_example', None)\n",
        "  if result is None:\n",
        "    # No example batch was found, so get one from the `.train` dataset\n",
        "    result = next(iter(self.train))\n",
        "    # And cache it for next time\n",
        "    self._example = result\n",
        "  return result\n",
        "\n",
        "WindowGenerator.train = train\n",
        "WindowGenerator.val = val\n",
        "WindowGenerator.test = test\n",
        "WindowGenerator.example = example\n",
        "\n"
      ],
      "execution_count": 12,
      "outputs": []
    },
    {
      "cell_type": "code",
      "metadata": {
        "colab": {
          "base_uri": "https://localhost:8080/",
          "height": 403
        },
        "id": "SmEeB_3ccBqj",
        "outputId": "9a44b5aa-5222-407e-fc75-0c9821657c48"
      },
      "source": [
        "# Plot: simple visualization of the split window\n",
        "# -----------------------------------------------------------------------------\n",
        "def plot(self, model=None, plot_col='Weighted_Price', max_subplots=3):\n",
        "  inputs, labels = self.example\n",
        "  plt.figure(figsize=(12, 6))\n",
        "  plot_col_index = self.column_indices[plot_col]\n",
        "  max_n = min(max_subplots, len(inputs))\n",
        "  for n in range(max_n):\n",
        "    plt.subplot(max_n, 1, n+1)\n",
        "    plt.ylabel(f'{plot_col} [normed]')\n",
        "    plt.plot(self.input_indices, inputs[n, :, plot_col_index],\n",
        "             label='Inputs', marker='.', zorder=-10)\n",
        "\n",
        "    if self.label_columns:\n",
        "      label_col_index = self.label_columns_indices.get(plot_col, None)\n",
        "    else:\n",
        "      label_col_index = plot_col_index\n",
        "\n",
        "    if label_col_index is None:\n",
        "      continue\n",
        "\n",
        "    plt.scatter(self.label_indices, labels[n, :, label_col_index],\n",
        "                edgecolors='k', label='Labels', c='#2ca02c', s=64)\n",
        "    if model is not None:\n",
        "      predictions = model(inputs)\n",
        "      plt.scatter(self.label_indices, predictions[n, label_col_index],\n",
        "                  marker='X', edgecolors='k', label='Predictions',\n",
        "                  c='#7f0eff', s=64)\n",
        "    # * train_std + train_mean,\n",
        "    if n == 0:\n",
        "      plt.legend()\n",
        "\n",
        "  plt.xlabel('Time [h]')\n",
        "\n",
        "WindowGenerator.plot = plot\n",
        "\n",
        "WindowGenerator.plot = plot\n",
        "w1.plot()"
      ],
      "execution_count": 13,
      "outputs": [
        {
          "output_type": "display_data",
          "data": {
            "image/png": "[encoded data removed]",
            "text/plain": [
              "<Figure size 864x432 with 3 Axes>"
            ]
          },
          "metadata": {
            "tags": [],
            "needs_background": "light"
          }
        }
      ]
    },
    {
      "cell_type": "markdown",
      "metadata": {
        "id": "VUVm8kzARHoy"
      },
      "source": [
        "## Single step models\n",
        "\n",
        "\n",
        "> compile and fit model\n",
        "\n",
        "\n",
        "> Recurrent neural network\n",
        "\n",
        "\n",
        "\n"
      ]
    },
    {
      "cell_type": "code",
      "metadata": {
        "id": "eAuNvctlR-z-"
      },
      "source": [
        "# Compile and fit model\n",
        "# -----------------------------------------------------------------------------\n",
        "MAX_EPOCHS = 20\n",
        "\n",
        "def compile_and_fit(model, window, patience=3):\n",
        "  early_stopping = tf.keras.callbacks.EarlyStopping(monitor='val_loss',\n",
        "                                                    patience=patience,\n",
        "                                                    mode='min')\n",
        "\n",
        "  model.compile(loss=tf.losses.MeanSquaredError(),\n",
        "                optimizer=tf.optimizers.Adam(),\n",
        "                metrics=[tf.metrics.MeanAbsoluteError()])\n",
        "\n",
        "  history = model.fit(window.train, epochs=MAX_EPOCHS,\n",
        "                      validation_data=window.val,\n",
        "                      callbacks=[early_stopping])\n",
        "  return history\n",
        "\n"
      ],
      "execution_count": 74,
      "outputs": []
    },
    {
      "cell_type": "code",
      "metadata": {
        "id": "6D8KULuVSaAo"
      },
      "source": [
        "# Recurrent neural network\n",
        "# -----------------------------------------------------------------------------\n",
        "lstm_model = tf.keras.models.Sequential([\n",
        "    # Shape [batch, time, features] => [batch, time, lstm_units]\n",
        "    tf.keras.layers.LSTM(64, activation='relu', return_sequences=True),\n",
        "    tf.keras.layers.Dropout(0.3),\n",
        "    tf.keras.layers.LSTM(32, activation='relu', return_sequences=True),\n",
        "    tf.keras.layers.Dropout(0.1),\n",
        "    tf.keras.layers.LSTM(24, activation='sigmoid', return_sequences=True),\n",
        "\n",
        "    # Shape => [batch, time, features]\n",
        "    tf.keras.layers.Dense(units=1)\n",
        "])\n"
      ],
      "execution_count": 83,
      "outputs": []
    },
    {
      "cell_type": "code",
      "metadata": {
        "colab": {
          "base_uri": "https://localhost:8080/"
        },
        "id": "nxdllqZEBFym",
        "outputId": "dddba475-62d8-4584-c978-edbc863c3e1f"
      },
      "source": [
        "print('Input shape:', w1.example[0].shape)\n",
        "print('Output shape:', lstm_model(w1.example[0]).shape)\n"
      ],
      "execution_count": 79,
      "outputs": [
        {
          "output_type": "stream",
          "text": [
            "Input shape: (32, 24, 8)\n",
            "Output shape: (32, 24, 1)\n"
          ],
          "name": "stdout"
        }
      ]
    },
    {
      "cell_type": "code",
      "metadata": {
        "colab": {
          "base_uri": "https://localhost:8080/",
          "height": 420
        },
        "id": "P10QkcFZSymj",
        "outputId": "a4997b30-1200-4d73-984d-ab0d126cf6e8"
      },
      "source": [
        "# Plotting the RNN model's predictions \n",
        "# -----------------------------------------------------------------------------\n",
        "history = compile_and_fit(lstm_model, w1)\n",
        "IPython.display.clear_output()\n",
        "val_performance = {}\n",
        "performance = {}\n",
        "\n",
        "val_performance['LSTM'] = lstm_model.evaluate(w1.val)\n",
        "performance['LSTM'] = lstm_model.evaluate(w1.test, verbose=0)\n",
        "w1.plot(lstm_model)\n"
      ],
      "execution_count": 84,
      "outputs": [
        {
          "output_type": "stream",
          "text": [
            "109/109 [==============================] - 1s 13ms/step - loss: 0.0046 - mean_absolute_error: 0.0490\n"
          ],
          "name": "stdout"
        },
        {
          "output_type": "display_data",
          "data": {
            "image/png": "[encoded data removed]",
            "text/plain": [
              "<Figure size 864x432 with 3 Axes>"
            ]
          },
          "metadata": {
            "tags": [],
            "needs_background": "light"
          }
        }
      ]
    },
    {
      "cell_type": "markdown",
      "metadata": {
        "id": "V0HTreg7OtiH"
      },
      "source": [
        "\n",
        "## Performance"
      ]
    },
    {
      "cell_type": "code",
      "metadata": {
        "colab": {
          "base_uri": "https://localhost:8080/",
          "height": 300
        },
        "id": "J36OiLryOsjq",
        "outputId": "9f800643-5326-41c1-ff00-52ec61676f55"
      },
      "source": [
        "x = np.arange(len(performance))\n",
        "width = 0.3\n",
        "metric_name = 'mean_absolute_error'\n",
        "metric_index = lstm_model.metrics_names.index('mean_absolute_error')\n",
        "val_mae = [v[metric_index] for v in val_performance.values()]\n",
        "test_mae = [v[metric_index] for v in performance.values()]\n",
        "\n",
        "\n",
        "plt.ylabel('mean_absolute_error [Weighted_Price, normalized]')\n",
        "plt.bar(x - 0.2, val_mae, width, label='Validation')\n",
        "plt.bar(x + 0.2, test_mae, width, label='Test')\n",
        "plt.xticks(ticks=x, labels=performance.keys(),\n",
        "           rotation=45)\n",
        "_ = plt.legend()\n"
      ],
      "execution_count": 82,
      "outputs": [
        {
          "output_type": "display_data",
          "data": {
            "image/png": "[encoded data removed]",
            "text/plain": [
              "<Figure size 432x288 with 1 Axes>"
            ]
          },
          "metadata": {
            "tags": [],
            "needs_background": "light"
          }
        }
      ]
    }
  ]
}