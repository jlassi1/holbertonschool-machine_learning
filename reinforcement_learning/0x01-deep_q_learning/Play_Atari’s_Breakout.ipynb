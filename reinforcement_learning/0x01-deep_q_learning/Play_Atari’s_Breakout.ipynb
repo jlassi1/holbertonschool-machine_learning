{
  "nbformat": 4,
  "nbformat_minor": 0,
  "metadata": {
    "colab": {
      "name": "Untitled1.ipynb",
      "provenance": []
    },
    "kernelspec": {
      "name": "python3",
      "display_name": "Python 3"
    },
    "language_info": {
      "name": "python"
    },
    "accelerator": "GPU"
  },
  "cells": [
    {
      "cell_type": "code",
      "metadata": {
        "colab": {
          "base_uri": "https://localhost:8080/"
        },
        "id": "CLOJn9nHpfoU",
        "outputId": "ebf9aecf-1e58-44a8-8650-ebd9eda99432"
      },
      "source": [
        "import urllib.request\n",
        "urllib.request.urlretrieve('http://www.atarimania.com/roms/Roms.rar','Roms.rar')\n",
        "!pip install unrar\n",
        "!unrar x Roms.rar\n",
        "!mkdir rars\n",
        "!mv HC\\ ROMS.zip   rars\n",
        "!mv ROMS.zip  rars\n",
        "!python -m atari_py.import_roms rars"
      ],
      "execution_count": 1,
      "outputs": [
        {
          "output_type": "stream",
          "text": [
            "Collecting unrar\n",
            "  Downloading https://files.pythonhosted.org/packages/bb/0b/53130ccd483e3db8c8a460cb579bdb21b458d5494d67a261e1a5b273fbb9/unrar-0.4-py3-none-any.whl\n",
            "Installing collected packages: unrar\n",
            "Successfully installed unrar-0.4\n",
            "\n",
            "UNRAR 5.50 freeware      Copyright (c) 1993-2017 Alexander Roshal\n",
            "\n",
            "\n",
            "Extracting from Roms.rar\n",
            "\n",
            "Extracting  HC ROMS.zip                                                  \b\b\b\b 36%\b\b\b\b\b  OK \n",
            "Extracting  ROMS.zip                                                     \b\b\b\b 74%\b\b\b\b 99%\b\b\b\b\b  OK \n",
            "All OK\n",
            "copying adventure.bin from ROMS/Adventure (1980) (Atari, Warren Robinett) (CX2613, CX2613P) (PAL).bin to /usr/local/lib/python3.7/dist-packages/atari_py/atari_roms/adventure.bin\n",
            "copying air_raid.bin from ROMS/Air Raid (Men-A-Vision) (PAL) ~.bin to /usr/local/lib/python3.7/dist-packages/atari_py/atari_roms/air_raid.bin\n",
            "copying alien.bin from ROMS/Alien (1982) (20th Century Fox Video Games, Douglas 'Dallas North' Neubauer) (11006) ~.bin to /usr/local/lib/python3.7/dist-packages/atari_py/atari_roms/alien.bin\n",
            "copying amidar.bin from ROMS/Amidar (1982) (Parker Brothers, Ed Temple) (PB5310) ~.bin to /usr/local/lib/python3.7/dist-packages/atari_py/atari_roms/amidar.bin\n",
            "copying assault.bin from ROMS/Assault (AKA Sky Alien) (1983) (Bomb - Onbase) (CA281).bin to /usr/local/lib/python3.7/dist-packages/atari_py/atari_roms/assault.bin\n",
            "copying asterix.bin from ROMS/Asterix (AKA Taz) (07-27-1983) (Atari, Jerome Domurat, Steve Woita) (CX2696) (Prototype).bin to /usr/local/lib/python3.7/dist-packages/atari_py/atari_roms/asterix.bin\n",
            "copying asteroids.bin from ROMS/Asteroids (1981) (Atari, Brad Stewart - Sears) (CX2649 - 49-75163) [no copyright] ~.bin to /usr/local/lib/python3.7/dist-packages/atari_py/atari_roms/asteroids.bin\n",
            "copying atlantis.bin from ROMS/Atlantis (Lost City of Atlantis) (1982) (Imagic, Dennis Koble) (720103-1A, 720103-1B, IA3203, IX-010-04) ~.bin to /usr/local/lib/python3.7/dist-packages/atari_py/atari_roms/atlantis.bin\n",
            "copying bank_heist.bin from ROMS/Bank Heist (Bonnie & Clyde, Cops 'n' Robbers, Hold-Up, Roaring 20's) (1983) (20th Century Fox Video Games, Bill Aspromonte) (11012) ~.bin to /usr/local/lib/python3.7/dist-packages/atari_py/atari_roms/bank_heist.bin\n",
            "copying battle_zone.bin from ROMS/Battlezone (1983) (Atari - GCC, Mike Feinstein, Brad Rice) (CX2681) ~.bin to /usr/local/lib/python3.7/dist-packages/atari_py/atari_roms/battle_zone.bin\n",
            "copying beam_rider.bin from ROMS/Beamrider (1984) (Activision - Cheshire Engineering, David Rolfe, Larry Zwick) (AZ-037-04) ~.bin to /usr/local/lib/python3.7/dist-packages/atari_py/atari_roms/beam_rider.bin\n",
            "copying berzerk.bin from ROMS/Berzerk (1982) (Atari, Dan Hitchens - Sears) (CX2650 - 49-75168) ~.bin to /usr/local/lib/python3.7/dist-packages/atari_py/atari_roms/berzerk.bin\n",
            "copying bowling.bin from ROMS/Bowling (1979) (Atari, Larry Kaplan - Sears) (CX2628 - 6-99842, 49-75117) ~.bin to /usr/local/lib/python3.7/dist-packages/atari_py/atari_roms/bowling.bin\n",
            "copying boxing.bin from ROMS/Boxing - La Boxe (1980) (Activision, Bob Whitehead) (AG-002, CAG-002, AG-002-04) ~.bin to /usr/local/lib/python3.7/dist-packages/atari_py/atari_roms/boxing.bin\n",
            "copying breakout.bin from ROMS/Breakout - Breakaway IV (Paddle) (1978) (Atari, Brad Stewart - Sears) (CX2622 - 6-99813, 49-75107) ~.bin to /usr/local/lib/python3.7/dist-packages/atari_py/atari_roms/breakout.bin\n",
            "copying carnival.bin from ROMS/Carnival (1982) (Coleco - Woodside Design Associates, Steve 'Jessica Stevens' Kitchen) (2468) ~.bin to /usr/local/lib/python3.7/dist-packages/atari_py/atari_roms/carnival.bin\n",
            "copying centipede.bin from ROMS/Centipede (1983) (Atari - GCC) (CX2676) ~.bin to /usr/local/lib/python3.7/dist-packages/atari_py/atari_roms/centipede.bin\n",
            "copying chopper_command.bin from ROMS/Chopper Command (1982) (Activision, Bob Whitehead) (AX-015, AX-015-04) ~.bin to /usr/local/lib/python3.7/dist-packages/atari_py/atari_roms/chopper_command.bin\n",
            "copying crazy_climber.bin from ROMS/Crazy Climber (1983) (Atari - Roklan, Joe Gaucher, Alex Leavens) (CX2683) ~.bin to /usr/local/lib/python3.7/dist-packages/atari_py/atari_roms/crazy_climber.bin\n",
            "copying defender.bin from ROMS/Defender (1982) (Atari, Robert C. Polaro, Alan J. Murphy - Sears) (CX2609 - 49-75186) ~.bin to /usr/local/lib/python3.7/dist-packages/atari_py/atari_roms/defender.bin\n",
            "copying demon_attack.bin from ROMS/Demon Attack (Death from Above) (1982) (Imagic, Rob Fulop) (720000-200, 720101-1B, 720101-1C, IA3200, IA3200C, IX-006-04) ~.bin to /usr/local/lib/python3.7/dist-packages/atari_py/atari_roms/demon_attack.bin\n",
            "copying donkey_kong.bin from ROMS/Donkey Kong (1982) (Coleco - Woodside Design Associates - Imaginative Systems Software, Garry Kitchen) (2451) ~.bin to /usr/local/lib/python3.7/dist-packages/atari_py/atari_roms/donkey_kong.bin\n",
            "copying double_dunk.bin from ROMS/Double Dunk (Super Basketball) (1989) (Atari, Matthew L. Hubbard) (CX26159) ~.bin to /usr/local/lib/python3.7/dist-packages/atari_py/atari_roms/double_dunk.bin\n",
            "copying elevator_action.bin from ROMS/Elevator Action (1983) (Atari, Dan Hitchens) (CX26126) (Prototype) ~.bin to /usr/local/lib/python3.7/dist-packages/atari_py/atari_roms/elevator_action.bin\n",
            "copying enduro.bin from ROMS/Enduro (1983) (Activision, Larry Miller) (AX-026, AX-026-04) ~.bin to /usr/local/lib/python3.7/dist-packages/atari_py/atari_roms/enduro.bin\n",
            "copying fishing_derby.bin from ROMS/Fishing Derby (1980) (Activision, David Crane) (AG-004) ~.bin to /usr/local/lib/python3.7/dist-packages/atari_py/atari_roms/fishing_derby.bin\n",
            "copying freeway.bin from ROMS/Freeway (1981) (Activision, David Crane) (AG-009, AG-009-04) ~.bin to /usr/local/lib/python3.7/dist-packages/atari_py/atari_roms/freeway.bin\n",
            "copying frogger.bin from ROMS/Frogger (1982) (Parker Brothers, Ed English, David Lamkins) (PB5300) ~.bin to /usr/local/lib/python3.7/dist-packages/atari_py/atari_roms/frogger.bin\n",
            "copying frostbite.bin from ROMS/Frostbite (1983) (Activision, Steve Cartwright) (AX-031) ~.bin to /usr/local/lib/python3.7/dist-packages/atari_py/atari_roms/frostbite.bin\n",
            "copying galaxian.bin from ROMS/Galaxian (1983) (Atari - GCC, Mark Ackerman, Tom Calderwood, Glenn Parker) (CX2684) ~.bin to /usr/local/lib/python3.7/dist-packages/atari_py/atari_roms/galaxian.bin\n",
            "copying gopher.bin from ROMS/Gopher (Gopher Attack) (1982) (U.S. Games Corporation - JWDA, Sylvia Day, Todd Marshall, Robin McDaniel, Henry Will IV) (VC2001) ~.bin to /usr/local/lib/python3.7/dist-packages/atari_py/atari_roms/gopher.bin\n",
            "copying gravitar.bin from ROMS/Gravitar (1983) (Atari, Dan Hitchens, Mimi Nyden) (CX2685) ~.bin to /usr/local/lib/python3.7/dist-packages/atari_py/atari_roms/gravitar.bin\n",
            "copying hero.bin from ROMS/H.E.R.O. (1984) (Activision, John Van Ryzin) (AZ-036-04) ~.bin to /usr/local/lib/python3.7/dist-packages/atari_py/atari_roms/hero.bin\n",
            "copying ice_hockey.bin from ROMS/Ice Hockey - Le Hockey Sur Glace (1981) (Activision, Alan Miller) (AX-012, CAX-012, AX-012-04) ~.bin to /usr/local/lib/python3.7/dist-packages/atari_py/atari_roms/ice_hockey.bin\n",
            "copying jamesbond.bin from ROMS/James Bond 007 (James Bond Agent 007) (1984) (Parker Brothers - On-Time Software, Joe Gaucher, Louis Marbel) (PB5110) ~.bin to /usr/local/lib/python3.7/dist-packages/atari_py/atari_roms/jamesbond.bin\n",
            "copying journey_escape.bin from ROMS/Journey Escape (1983) (Data Age, J. Ray Dettling) (112-006) ~.bin to /usr/local/lib/python3.7/dist-packages/atari_py/atari_roms/journey_escape.bin\n",
            "copying kaboom.bin from ROMS/Kaboom! (Paddle) (1981) (Activision, Larry Kaplan, David Crane) (AG-010, AG-010-04) ~.bin to /usr/local/lib/python3.7/dist-packages/atari_py/atari_roms/kaboom.bin\n",
            "copying kangaroo.bin from ROMS/Kangaroo (1983) (Atari - GCC, Kevin Osborn) (CX2689) ~.bin to /usr/local/lib/python3.7/dist-packages/atari_py/atari_roms/kangaroo.bin\n",
            "copying keystone_kapers.bin from ROMS/Keystone Kapers - Raueber und Gendarm (1983) (Activision, Garry Kitchen - Ariola) (EAX-025, EAX-025-04I - 711 025-725) (PAL).bin to /usr/local/lib/python3.7/dist-packages/atari_py/atari_roms/keystone_kapers.bin\n",
            "copying king_kong.bin from ROMS/King Kong (1982) (Tigervision - Software Electronics Corporation, Karl T. Olinger - Teldec) (7-001 - 3.60001 VE) (PAL).bin to /usr/local/lib/python3.7/dist-packages/atari_py/atari_roms/king_kong.bin\n",
            "copying koolaid.bin from ROMS/Kool-Aid Man (Kool Aid Pitcher Man) (1983) (M Network, Stephen Tatsumi, Jane Terjung - Kool Aid) (MT4648) ~.bin to /usr/local/lib/python3.7/dist-packages/atari_py/atari_roms/koolaid.bin\n",
            "copying krull.bin from ROMS/Krull (1983) (Atari, Jerome Domurat, Dave Staugas) (CX2682) ~.bin to /usr/local/lib/python3.7/dist-packages/atari_py/atari_roms/krull.bin\n",
            "copying kung_fu_master.bin from ROMS/Kung-Fu Master (1987) (Activision - Imagineering, Dan Kitchen, Garry Kitchen) (AG-039-04) ~.bin to /usr/local/lib/python3.7/dist-packages/atari_py/atari_roms/kung_fu_master.bin\n",
            "copying laser_gates.bin from ROMS/Laser Gates (AKA Innerspace) (1983) (Imagic, Dan Oliver) (720118-2A, 13208, EIX-007-04I) (PAL).bin to /usr/local/lib/python3.7/dist-packages/atari_py/atari_roms/laser_gates.bin\n",
            "copying lost_luggage.bin from ROMS/Lost Luggage (Airport Mayhem) (1982) (Apollo - Games by Apollo, Larry Minor, Ernie Runyon, Ed Salvo) (AP-2004) [no opening scene] ~.bin to /usr/local/lib/python3.7/dist-packages/atari_py/atari_roms/lost_luggage.bin\n",
            "copying montezuma_revenge.bin from ROMS/Montezuma's Revenge - Featuring Panama Joe (1984) (Parker Brothers - JWDA, Henry Will IV) (PB5760) ~.bin to /usr/local/lib/python3.7/dist-packages/atari_py/atari_roms/montezuma_revenge.bin\n",
            "copying mr_do.bin from ROMS/Mr. Do! (1983) (CBS Electronics, Ed English) (4L4478) (PAL).bin to /usr/local/lib/python3.7/dist-packages/atari_py/atari_roms/mr_do.bin\n",
            "copying ms_pacman.bin from ROMS/Ms. Pac-Man (1983) (Atari - GCC, Mark Ackerman, Glenn Parker) (CX2675) ~.bin to /usr/local/lib/python3.7/dist-packages/atari_py/atari_roms/ms_pacman.bin\n",
            "copying name_this_game.bin from ROMS/Name This Game (Guardians of Treasure) (1983) (U.S. Games Corporation - JWDA, Roger Booth, Sylvia Day, Ron Dubren, Todd Marshall, Robin McDaniel, Wes Trager, Henry Will IV) (VC1007) ~.bin to /usr/local/lib/python3.7/dist-packages/atari_py/atari_roms/name_this_game.bin\n",
            "copying pacman.bin from ROMS/Pac-Man (1982) (Atari, Tod Frye) (CX2646) (PAL).bin to /usr/local/lib/python3.7/dist-packages/atari_py/atari_roms/pacman.bin\n",
            "copying phoenix.bin from ROMS/Phoenix (1983) (Atari - GCC, Mike Feinstein, John Mracek) (CX2673) ~.bin to /usr/local/lib/python3.7/dist-packages/atari_py/atari_roms/phoenix.bin\n",
            "copying video_pinball.bin from ROMS/Pinball (AKA Video Pinball) (Zellers).bin to /usr/local/lib/python3.7/dist-packages/atari_py/atari_roms/video_pinball.bin\n",
            "copying pitfall.bin from ROMS/Pitfall! - Pitfall Harry's Jungle Adventure (Jungle Runner) (1982) (Activision, David Crane) (AX-018, AX-018-04) ~.bin to /usr/local/lib/python3.7/dist-packages/atari_py/atari_roms/pitfall.bin\n",
            "copying pooyan.bin from ROMS/Pooyan (1983) (Konami) (RC 100-X 02) ~.bin to /usr/local/lib/python3.7/dist-packages/atari_py/atari_roms/pooyan.bin\n",
            "copying private_eye.bin from ROMS/Private Eye (1984) (Activision, Bob Whitehead) (AG-034-04) ~.bin to /usr/local/lib/python3.7/dist-packages/atari_py/atari_roms/private_eye.bin\n",
            "copying qbert.bin from ROMS/Q-bert (1983) (Parker Brothers - Western Technologies, Dave Hampton, Tom Sloper) (PB5360) ~.bin to /usr/local/lib/python3.7/dist-packages/atari_py/atari_roms/qbert.bin\n",
            "copying riverraid.bin from ROMS/River Raid (1982) (Activision, Carol Shaw) (AX-020, AX-020-04) ~.bin to /usr/local/lib/python3.7/dist-packages/atari_py/atari_roms/riverraid.bin\n",
            "copying road_runner.bin from patched version of ROMS/Road Runner (1989) (Atari - Bobco, Robert C. Polaro) (CX2663) ~.bin to /usr/local/lib/python3.7/dist-packages/atari_py/atari_roms/road_runner.bin\n",
            "copying robotank.bin from ROMS/Robot Tank (Robotank) (1983) (Activision, Alan Miller) (AZ-028, AG-028-04) ~.bin to /usr/local/lib/python3.7/dist-packages/atari_py/atari_roms/robotank.bin\n",
            "copying seaquest.bin from ROMS/Seaquest (1983) (Activision, Steve Cartwright) (AX-022) ~.bin to /usr/local/lib/python3.7/dist-packages/atari_py/atari_roms/seaquest.bin\n",
            "copying sir_lancelot.bin from ROMS/Sir Lancelot (1983) (Xonox - K-Tel Software - Product Guild, Anthony R. Henderson) (99006, 6220) (PAL).bin to /usr/local/lib/python3.7/dist-packages/atari_py/atari_roms/sir_lancelot.bin\n",
            "copying skiing.bin from ROMS/Skiing - Le Ski (1980) (Activision, Bob Whitehead) (AG-005, CAG-005, AG-005-04) ~.bin to /usr/local/lib/python3.7/dist-packages/atari_py/atari_roms/skiing.bin\n",
            "copying solaris.bin from ROMS/Solaris (The Last Starfighter, Star Raiders II, Universe) (1986) (Atari, Douglas Neubauer, Mimi Nyden) (CX26136) ~.bin to /usr/local/lib/python3.7/dist-packages/atari_py/atari_roms/solaris.bin\n",
            "copying space_invaders.bin from ROMS/Space Invaders (1980) (Atari, Richard Maurer - Sears) (CX2632 - 49-75153) ~.bin to /usr/local/lib/python3.7/dist-packages/atari_py/atari_roms/space_invaders.bin\n",
            "copying star_gunner.bin from ROMS/Stargunner (1983) (Telesys, Alex Leavens) (1005) ~.bin to /usr/local/lib/python3.7/dist-packages/atari_py/atari_roms/star_gunner.bin\n",
            "copying surround.bin from ROMS/Surround (32 in 1) (Bit Corporation) (R320).bin to /usr/local/lib/python3.7/dist-packages/atari_py/atari_roms/surround.bin\n",
            "copying tennis.bin from ROMS/Tennis - Le Tennis (1981) (Activision, Alan Miller) (AG-007, CAG-007) ~.bin to /usr/local/lib/python3.7/dist-packages/atari_py/atari_roms/tennis.bin\n",
            "copying time_pilot.bin from ROMS/Time Pilot (1983) (Coleco - Woodside Design Associates, Harley H. Puthuff Jr.) (2663) ~.bin to /usr/local/lib/python3.7/dist-packages/atari_py/atari_roms/time_pilot.bin\n",
            "copying trondead.bin from ROMS/TRON - Deadly Discs (TRON Joystick) (1983) (M Network - INTV - APh Technological Consulting, Jeff Ronne, Brett Stutz) (MT5662) ~.bin to /usr/local/lib/python3.7/dist-packages/atari_py/atari_roms/trondead.bin\n",
            "copying tutankham.bin from ROMS/Tutankham (1983) (Parker Brothers, Dave Engman, Dawn Stockbridge) (PB5340) ~.bin to /usr/local/lib/python3.7/dist-packages/atari_py/atari_roms/tutankham.bin\n",
            "copying up_n_down.bin from ROMS/Up 'n Down (1984) (SEGA - Beck-Tech, Steve Beck, Phat Ho) (009-01) ~.bin to /usr/local/lib/python3.7/dist-packages/atari_py/atari_roms/up_n_down.bin\n",
            "copying venture.bin from ROMS/Venture (1982) (Coleco, Joseph Biel) (2457) ~.bin to /usr/local/lib/python3.7/dist-packages/atari_py/atari_roms/venture.bin\n",
            "copying pong.bin from ROMS/Video Olympics - Pong Sports (Paddle) (1977) (Atari, Joe Decuir - Sears) (CX2621 - 99806, 6-99806, 49-75104) ~.bin to /usr/local/lib/python3.7/dist-packages/atari_py/atari_roms/pong.bin\n",
            "copying wizard_of_wor.bin from ROMS/Wizard of Wor (1982) (CBS Electronics - Roklan, Joe Hellesen, Joe Wagner) (M8774, M8794) ~.bin to /usr/local/lib/python3.7/dist-packages/atari_py/atari_roms/wizard_of_wor.bin\n",
            "copying yars_revenge.bin from ROMS/Yars' Revenge (Time Freeze) (1982) (Atari, Howard Scott Warshaw - Sears) (CX2655 - 49-75167) ~.bin to /usr/local/lib/python3.7/dist-packages/atari_py/atari_roms/yars_revenge.bin\n",
            "copying zaxxon.bin from ROMS/Zaxxon (1983) (Coleco) (2454) ~.bin to /usr/local/lib/python3.7/dist-packages/atari_py/atari_roms/zaxxon.bin\n"
          ],
          "name": "stdout"
        }
      ]
    },
    {
      "cell_type": "code",
      "metadata": {
        "colab": {
          "base_uri": "https://localhost:8080/"
        },
        "id": "JL7M9KDAssk3",
        "outputId": "28fa8f09-4cc6-4030-b56d-914904030e98"
      },
      "source": [
        "!pip install --user keras-rl\n",
        "!pip install --user keras==2.2.4\n",
        "!pip install --user Pillow\n",
        "!pip install --user h5py"
      ],
      "execution_count": 3,
      "outputs": [
        {
          "output_type": "stream",
          "text": [
            "Collecting keras-rl\n",
            "\u001b[?25l  Downloading https://files.pythonhosted.org/packages/ab/87/4b57eff8e4bd834cea0a75cd6c58198c9e42be29b600db9c14fafa72ec07/keras-rl-0.4.2.tar.gz (40kB)\n",
            "\r\u001b[K     |████████                        | 10kB 24.0MB/s eta 0:00:01\r\u001b[K     |████████████████▏               | 20kB 31.1MB/s eta 0:00:01\r\u001b[K     |████████████████████████▎       | 30kB 34.7MB/s eta 0:00:01\r\u001b[K     |████████████████████████████████| 40kB 7.4MB/s \n",
            "\u001b[?25hRequirement already satisfied: keras>=2.0.7 in /usr/local/lib/python3.7/dist-packages (from keras-rl) (2.4.3)\n",
            "Requirement already satisfied: h5py in /usr/local/lib/python3.7/dist-packages (from keras>=2.0.7->keras-rl) (3.1.0)\n",
            "Requirement already satisfied: numpy>=1.9.1 in /usr/local/lib/python3.7/dist-packages (from keras>=2.0.7->keras-rl) (1.19.5)\n",
            "Requirement already satisfied: pyyaml in /usr/local/lib/python3.7/dist-packages (from keras>=2.0.7->keras-rl) (3.13)\n",
            "Requirement already satisfied: scipy>=0.14 in /usr/local/lib/python3.7/dist-packages (from keras>=2.0.7->keras-rl) (1.4.1)\n",
            "Requirement already satisfied: cached-property; python_version < \"3.8\" in /usr/local/lib/python3.7/dist-packages (from h5py->keras>=2.0.7->keras-rl) (1.5.2)\n",
            "Building wheels for collected packages: keras-rl\n",
            "  Building wheel for keras-rl (setup.py) ... \u001b[?25l\u001b[?25hdone\n",
            "  Created wheel for keras-rl: filename=keras_rl-0.4.2-cp37-none-any.whl size=48382 sha256=c91551112dc93fc8e4337db8e9a0f111e49d49dd01e2ad8884c29e1d18125b26\n",
            "  Stored in directory: /root/.cache/pip/wheels/7d/4d/84/9254c9f2e8f51865cb0dac8e79da85330c735551d31f73c894\n",
            "Successfully built keras-rl\n",
            "Installing collected packages: keras-rl\n",
            "Successfully installed keras-rl-0.4.2\n",
            "Collecting keras==2.2.4\n",
            "\u001b[?25l  Downloading https://files.pythonhosted.org/packages/5e/10/aa32dad071ce52b5502266b5c659451cfd6ffcbf14e6c8c4f16c0ff5aaab/Keras-2.2.4-py2.py3-none-any.whl (312kB)\n",
            "\u001b[K     |████████████████████████████████| 317kB 35.6MB/s \n",
            "\u001b[?25hCollecting keras-applications>=1.0.6\n",
            "\u001b[?25l  Downloading https://files.pythonhosted.org/packages/71/e3/19762fdfc62877ae9102edf6342d71b28fbfd9dea3d2f96a882ce099b03f/Keras_Applications-1.0.8-py3-none-any.whl (50kB)\n",
            "\u001b[K     |████████████████████████████████| 51kB 8.1MB/s \n",
            "\u001b[?25hRequirement already satisfied: scipy>=0.14 in /usr/local/lib/python3.7/dist-packages (from keras==2.2.4) (1.4.1)\n",
            "Requirement already satisfied: six>=1.9.0 in /usr/local/lib/python3.7/dist-packages (from keras==2.2.4) (1.15.0)\n",
            "Requirement already satisfied: keras-preprocessing>=1.0.5 in /usr/local/lib/python3.7/dist-packages (from keras==2.2.4) (1.1.2)\n",
            "Requirement already satisfied: pyyaml in /usr/local/lib/python3.7/dist-packages (from keras==2.2.4) (3.13)\n",
            "Requirement already satisfied: h5py in /usr/local/lib/python3.7/dist-packages (from keras==2.2.4) (3.1.0)\n",
            "Requirement already satisfied: numpy>=1.9.1 in /usr/local/lib/python3.7/dist-packages (from keras==2.2.4) (1.19.5)\n",
            "Requirement already satisfied: cached-property; python_version < \"3.8\" in /usr/local/lib/python3.7/dist-packages (from h5py->keras==2.2.4) (1.5.2)\n",
            "Installing collected packages: keras-applications, keras\n",
            "Successfully installed keras-2.2.4 keras-applications-1.0.8\n",
            "Requirement already satisfied: Pillow in /usr/local/lib/python3.7/dist-packages (7.1.2)\n",
            "Requirement already satisfied: h5py in /usr/local/lib/python3.7/dist-packages (3.1.0)\n",
            "Requirement already satisfied: cached-property; python_version < \"3.8\" in /usr/local/lib/python3.7/dist-packages (from h5py) (1.5.2)\n",
            "Requirement already satisfied: numpy>=1.14.5; python_version == \"3.7\" in /usr/local/lib/python3.7/dist-packages (from h5py) (1.19.5)\n"
          ],
          "name": "stdout"
        }
      ]
    },
    {
      "cell_type": "code",
      "metadata": {
        "colab": {
          "base_uri": "https://localhost:8080/"
        },
        "id": "oTKr6WXjs7py",
        "outputId": "ee9f200a-feb3-462a-9e82-6552fb87043a"
      },
      "source": [
        "!pip install  gym keras-rl2 gym[atari]"
      ],
      "execution_count": 5,
      "outputs": [
        {
          "output_type": "stream",
          "text": [
            "Requirement already satisfied: gym in /usr/local/lib/python3.7/dist-packages (0.17.3)\n",
            "Collecting keras-rl2\n",
            "\u001b[?25l  Downloading https://files.pythonhosted.org/packages/b6/fc/143ee05aed804b3b9052d7b17b13832bc7f3c28e7b1bc50edd09c29d8525/keras_rl2-1.0.5-py3-none-any.whl (52kB)\n",
            "\r\u001b[K     |██████▎                         | 10kB 26.6MB/s eta 0:00:01\r\u001b[K     |████████████▋                   | 20kB 31.7MB/s eta 0:00:01\r\u001b[K     |██████████████████▉             | 30kB 34.1MB/s eta 0:00:01\r\u001b[K     |█████████████████████████▏      | 40kB 37.3MB/s eta 0:00:01\r\u001b[K     |███████████████████████████████▍| 51kB 33.6MB/s eta 0:00:01\r\u001b[K     |████████████████████████████████| 61kB 9.5MB/s \n",
            "\u001b[?25hRequirement already satisfied: scipy in /usr/local/lib/python3.7/dist-packages (from gym) (1.4.1)\n",
            "Requirement already satisfied: pyglet<=1.5.0,>=1.4.0 in /usr/local/lib/python3.7/dist-packages (from gym) (1.5.0)\n",
            "Requirement already satisfied: cloudpickle<1.7.0,>=1.2.0 in /usr/local/lib/python3.7/dist-packages (from gym) (1.3.0)\n",
            "Requirement already satisfied: numpy>=1.10.4 in /usr/local/lib/python3.7/dist-packages (from gym) (1.19.5)\n",
            "Requirement already satisfied: tensorflow in /usr/local/lib/python3.7/dist-packages (from keras-rl2) (2.5.0)\n",
            "Requirement already satisfied: future in /usr/local/lib/python3.7/dist-packages (from pyglet<=1.5.0,>=1.4.0->gym) (0.16.0)\n",
            "Requirement already satisfied: six~=1.15.0 in /usr/local/lib/python3.7/dist-packages (from tensorflow->keras-rl2) (1.15.0)\n",
            "Requirement already satisfied: flatbuffers~=1.12.0 in /usr/local/lib/python3.7/dist-packages (from tensorflow->keras-rl2) (1.12)\n",
            "Requirement already satisfied: opt-einsum~=3.3.0 in /usr/local/lib/python3.7/dist-packages (from tensorflow->keras-rl2) (3.3.0)\n",
            "Requirement already satisfied: gast==0.4.0 in /usr/local/lib/python3.7/dist-packages (from tensorflow->keras-rl2) (0.4.0)\n",
            "Requirement already satisfied: h5py~=3.1.0 in /usr/local/lib/python3.7/dist-packages (from tensorflow->keras-rl2) (3.1.0)\n",
            "Requirement already satisfied: typing-extensions~=3.7.4 in /usr/local/lib/python3.7/dist-packages (from tensorflow->keras-rl2) (3.7.4.3)\n",
            "Requirement already satisfied: tensorflow-estimator<2.6.0,>=2.5.0rc0 in /usr/local/lib/python3.7/dist-packages (from tensorflow->keras-rl2) (2.5.0)\n",
            "Requirement already satisfied: wrapt~=1.12.1 in /usr/local/lib/python3.7/dist-packages (from tensorflow->keras-rl2) (1.12.1)\n",
            "Requirement already satisfied: astunparse~=1.6.3 in /usr/local/lib/python3.7/dist-packages (from tensorflow->keras-rl2) (1.6.3)\n",
            "Requirement already satisfied: tensorboard~=2.5 in /usr/local/lib/python3.7/dist-packages (from tensorflow->keras-rl2) (2.5.0)\n",
            "Requirement already satisfied: termcolor~=1.1.0 in /usr/local/lib/python3.7/dist-packages (from tensorflow->keras-rl2) (1.1.0)\n",
            "Requirement already satisfied: google-pasta~=0.2 in /usr/local/lib/python3.7/dist-packages (from tensorflow->keras-rl2) (0.2.0)\n",
            "Requirement already satisfied: wheel~=0.35 in /usr/local/lib/python3.7/dist-packages (from tensorflow->keras-rl2) (0.36.2)\n",
            "Requirement already satisfied: grpcio~=1.34.0 in /usr/local/lib/python3.7/dist-packages (from tensorflow->keras-rl2) (1.34.1)\n",
            "Requirement already satisfied: absl-py~=0.10 in /usr/local/lib/python3.7/dist-packages (from tensorflow->keras-rl2) (0.12.0)\n",
            "Requirement already satisfied: keras-nightly~=2.5.0.dev in /usr/local/lib/python3.7/dist-packages (from tensorflow->keras-rl2) (2.5.0.dev2021032900)\n",
            "Requirement already satisfied: keras-preprocessing~=1.1.2 in /usr/local/lib/python3.7/dist-packages (from tensorflow->keras-rl2) (1.1.2)\n",
            "Requirement already satisfied: protobuf>=3.9.2 in /usr/local/lib/python3.7/dist-packages (from tensorflow->keras-rl2) (3.12.4)\n",
            "Requirement already satisfied: cached-property; python_version < \"3.8\" in /usr/local/lib/python3.7/dist-packages (from h5py~=3.1.0->tensorflow->keras-rl2) (1.5.2)\n",
            "Requirement already satisfied: google-auth-oauthlib<0.5,>=0.4.1 in /usr/local/lib/python3.7/dist-packages (from tensorboard~=2.5->tensorflow->keras-rl2) (0.4.4)\n",
            "Requirement already satisfied: tensorboard-data-server<0.7.0,>=0.6.0 in /usr/local/lib/python3.7/dist-packages (from tensorboard~=2.5->tensorflow->keras-rl2) (0.6.1)\n",
            "Requirement already satisfied: google-auth<2,>=1.6.3 in /usr/local/lib/python3.7/dist-packages (from tensorboard~=2.5->tensorflow->keras-rl2) (1.31.0)\n",
            "Requirement already satisfied: markdown>=2.6.8 in /usr/local/lib/python3.7/dist-packages (from tensorboard~=2.5->tensorflow->keras-rl2) (3.3.4)\n",
            "Requirement already satisfied: setuptools>=41.0.0 in /usr/local/lib/python3.7/dist-packages (from tensorboard~=2.5->tensorflow->keras-rl2) (57.0.0)\n",
            "Requirement already satisfied: werkzeug>=0.11.15 in /usr/local/lib/python3.7/dist-packages (from tensorboard~=2.5->tensorflow->keras-rl2) (1.0.1)\n",
            "Requirement already satisfied: requests<3,>=2.21.0 in /usr/local/lib/python3.7/dist-packages (from tensorboard~=2.5->tensorflow->keras-rl2) (2.23.0)\n",
            "Requirement already satisfied: tensorboard-plugin-wit>=1.6.0 in /usr/local/lib/python3.7/dist-packages (from tensorboard~=2.5->tensorflow->keras-rl2) (1.8.0)\n",
            "Requirement already satisfied: requests-oauthlib>=0.7.0 in /usr/local/lib/python3.7/dist-packages (from google-auth-oauthlib<0.5,>=0.4.1->tensorboard~=2.5->tensorflow->keras-rl2) (1.3.0)\n",
            "Requirement already satisfied: rsa<5,>=3.1.4; python_version >= \"3.6\" in /usr/local/lib/python3.7/dist-packages (from google-auth<2,>=1.6.3->tensorboard~=2.5->tensorflow->keras-rl2) (4.7.2)\n",
            "Requirement already satisfied: cachetools<5.0,>=2.0.0 in /usr/local/lib/python3.7/dist-packages (from google-auth<2,>=1.6.3->tensorboard~=2.5->tensorflow->keras-rl2) (4.2.2)\n",
            "Requirement already satisfied: pyasn1-modules>=0.2.1 in /usr/local/lib/python3.7/dist-packages (from google-auth<2,>=1.6.3->tensorboard~=2.5->tensorflow->keras-rl2) (0.2.8)\n",
            "Requirement already satisfied: importlib-metadata; python_version < \"3.8\" in /usr/local/lib/python3.7/dist-packages (from markdown>=2.6.8->tensorboard~=2.5->tensorflow->keras-rl2) (4.5.0)\n",
            "Requirement already satisfied: certifi>=2017.4.17 in /usr/local/lib/python3.7/dist-packages (from requests<3,>=2.21.0->tensorboard~=2.5->tensorflow->keras-rl2) (2021.5.30)\n",
            "Requirement already satisfied: chardet<4,>=3.0.2 in /usr/local/lib/python3.7/dist-packages (from requests<3,>=2.21.0->tensorboard~=2.5->tensorflow->keras-rl2) (3.0.4)\n",
            "Requirement already satisfied: idna<3,>=2.5 in /usr/local/lib/python3.7/dist-packages (from requests<3,>=2.21.0->tensorboard~=2.5->tensorflow->keras-rl2) (2.10)\n",
            "Requirement already satisfied: urllib3!=1.25.0,!=1.25.1,<1.26,>=1.21.1 in /usr/local/lib/python3.7/dist-packages (from requests<3,>=2.21.0->tensorboard~=2.5->tensorflow->keras-rl2) (1.24.3)\n",
            "Requirement already satisfied: oauthlib>=3.0.0 in /usr/local/lib/python3.7/dist-packages (from requests-oauthlib>=0.7.0->google-auth-oauthlib<0.5,>=0.4.1->tensorboard~=2.5->tensorflow->keras-rl2) (3.1.1)\n",
            "Requirement already satisfied: pyasn1>=0.1.3 in /usr/local/lib/python3.7/dist-packages (from rsa<5,>=3.1.4; python_version >= \"3.6\"->google-auth<2,>=1.6.3->tensorboard~=2.5->tensorflow->keras-rl2) (0.4.8)\n",
            "Requirement already satisfied: zipp>=0.5 in /usr/local/lib/python3.7/dist-packages (from importlib-metadata; python_version < \"3.8\"->markdown>=2.6.8->tensorboard~=2.5->tensorflow->keras-rl2) (3.4.1)\n",
            "Installing collected packages: keras-rl2\n",
            "Successfully installed keras-rl2-1.0.5\n"
          ],
          "name": "stdout"
        }
      ]
    },
    {
      "cell_type": "code",
      "metadata": {
        "id": "OWAXCNZ0pHW8"
      },
      "source": [
        "import numpy as np\n",
        "import gym\n",
        "from PIL import Image\n",
        "from tensorflow.keras.models import Sequential\n",
        "from tensorflow.keras.layers import Dense, Activation, Flatten, Convolution2D, Permute\n",
        "from tensorflow.keras.optimizers import Adam\n",
        "import tensorflow.keras.backend as K\n",
        "\n",
        "from rl.agents.dqn import DQNAgent\n",
        "from rl.policy import LinearAnnealedPolicy, EpsGreedyQPolicy\n",
        "from rl.memory import SequentialMemory\n",
        "from rl.core import Processor\n"
      ],
      "execution_count": 6,
      "outputs": []
    },
    {
      "cell_type": "code",
      "metadata": {
        "colab": {
          "base_uri": "https://localhost:8080/"
        },
        "id": "saCCvzs4pYSE",
        "outputId": "32eada8c-d8a9-4cb8-9d16-b242ea628abb"
      },
      "source": [
        "# Get the environment and extract the number of actions and the input shape.\n",
        "env = gym.make('Breakout-v0')\n",
        "np.random.seed(123)\n",
        "env.seed(123)\n",
        "nb_actions = env.action_space.n\n",
        "print(nb_actions)\n",
        "input_shape_ = env.observation_space.shape\n",
        "env.unwrapped.get_action_meanings()"
      ],
      "execution_count": 7,
      "outputs": [
        {
          "output_type": "stream",
          "text": [
            "4\n"
          ],
          "name": "stdout"
        },
        {
          "output_type": "execute_result",
          "data": {
            "text/plain": [
              "['NOOP', 'FIRE', 'RIGHT', 'LEFT']"
            ]
          },
          "metadata": {
            "tags": []
          },
          "execution_count": 7
        }
      ]
    },
    {
      "cell_type": "code",
      "metadata": {
        "id": "w_58gLpbppLX"
      },
      "source": [
        "\n",
        "\"\"\" contains a model to train dqn agent for atari breakout game\"\"\"\n",
        "INPUT_SHAPE = (84, 84)\n",
        "WINDOW_LENGTH = 4\n",
        "\n",
        "\n",
        "class AtariProcessor(Processor):\n",
        "    \"\"\" processor for the game\"\"\"\n",
        "\n",
        "    def process_observation(self, observation):\n",
        "        \"\"\"process images taken \"\"\"\n",
        "        assert observation.ndim == 3  # (height, width, channel)\n",
        "        img = Image.fromarray(observation)\n",
        "        img = img.resize(INPUT_SHAPE).convert(\n",
        "            'L')  # resize and convert to grayscale\n",
        "        processed_observation = np.array(img)\n",
        "        assert processed_observation.shape == INPUT_SHAPE\n",
        "        # saves storage in experience memory\n",
        "        return processed_observation.astype('uint8')\n",
        "\n",
        "    def process_state_batch(self, batch):\n",
        "        \"\"\" normalization of the batch images\"\"\"\n",
        "        # We could perform this processing step in `process_observation`.\n",
        "        # In this case, however, we would need to store a `float32` array\n",
        "        # instead, which is 4x more memory intensive than\n",
        "        # an `uint8` array. This matters if we store 1M observations.\n",
        "        processed_batch = batch.astype('float32') / 255.\n",
        "        return processed_batch\n",
        "\n",
        "    def process_reward(self, reward):\n",
        "        \"\"\"limit values in reward array between -1 and 1 \"\"\"\n",
        "        return np.clip(reward, -1., 1.)\n"
      ],
      "execution_count": 8,
      "outputs": []
    },
    {
      "cell_type": "code",
      "metadata": {
        "colab": {
          "base_uri": "https://localhost:8080/"
        },
        "id": "Q4sI0a6sprQI",
        "outputId": "6806245c-71a9-44bd-c955-7e2048ca5c38"
      },
      "source": [
        "\n",
        "\n",
        "def build_model(input_shape, nb_actions):\n",
        "  # input_shape = (WINDOW_LENGTH,) + INPUT_SHAPE\n",
        "  model = Sequential()\n",
        "  # if K.image_data_format() == 'channels_last':\n",
        "  #     # (width, height, channels)\n",
        "  #     model.add(Permute((2, 3, 1), input_shape=input_shape))\n",
        "  # elif K.image_data_format() == 'channels_first':\n",
        "  #     # (channels, width, height)\n",
        "  #     model.add(Permute((1, 2, 3), input_shape=input_shape))\n",
        "\n",
        "  model.add(Convolution2D(32, (8, 8), strides=(4, 4), input_shape=input_shape))\n",
        "  model.add(Activation('relu'))\n",
        "  model.add(Convolution2D(64, (4, 4), strides=(2, 2)))\n",
        "  model.add(Activation('relu'))\n",
        "  model.add(Convolution2D(64, (3, 3), strides=(1, 1)))\n",
        "  model.add(Activation('relu'))\n",
        "  model.add(Flatten())\n",
        "  model.add(Dense(512))\n",
        "  model.add(Activation('relu'))\n",
        "  model.add(Dense(nb_actions))\n",
        "  model.add(Activation('linear'))\n",
        "  return model\n",
        "\n",
        "model = build_model(input_shape=((WINDOW_LENGTH,) + input_shape_), nb_actions=nb_actions)\n",
        "\n",
        "model.summary()"
      ],
      "execution_count": 11,
      "outputs": [
        {
          "output_type": "stream",
          "text": [
            "Model: \"sequential_2\"\n",
            "_________________________________________________________________\n",
            "Layer (type)                 Output Shape              Param #   \n",
            "=================================================================\n",
            "conv2d_3 (Conv2D)            (None, 4, 51, 39, 32)     6176      \n",
            "_________________________________________________________________\n",
            "activation_5 (Activation)    (None, 4, 51, 39, 32)     0         \n",
            "_________________________________________________________________\n",
            "conv2d_4 (Conv2D)            (None, 4, 24, 18, 64)     32832     \n",
            "_________________________________________________________________\n",
            "activation_6 (Activation)    (None, 4, 24, 18, 64)     0         \n",
            "_________________________________________________________________\n",
            "conv2d_5 (Conv2D)            (None, 4, 22, 16, 64)     36928     \n",
            "_________________________________________________________________\n",
            "activation_7 (Activation)    (None, 4, 22, 16, 64)     0         \n",
            "_________________________________________________________________\n",
            "flatten_1 (Flatten)          (None, 90112)             0         \n",
            "_________________________________________________________________\n",
            "dense_2 (Dense)              (None, 512)               46137856  \n",
            "_________________________________________________________________\n",
            "activation_8 (Activation)    (None, 512)               0         \n",
            "_________________________________________________________________\n",
            "dense_3 (Dense)              (None, 4)                 2052      \n",
            "_________________________________________________________________\n",
            "activation_9 (Activation)    (None, 4)                 0         \n",
            "=================================================================\n",
            "Total params: 46,215,844\n",
            "Trainable params: 46,215,844\n",
            "Non-trainable params: 0\n",
            "_________________________________________________________________\n"
          ],
          "name": "stdout"
        }
      ]
    },
    {
      "cell_type": "code",
      "metadata": {
        "id": "1KzeZm_wp_z-"
      },
      "source": [
        "\n",
        "def build_agent(model, actions):\n",
        "    policy = LinearAnnealedPolicy(EpsGreedyQPolicy(), attr='eps', value_max=1., value_min=.1, value_test=.2, nb_steps=10000)\n",
        "    memory = SequentialMemory(limit=100000, window_length=4)\n",
        "    dqn = DQNAgent(model=model, memory=memory, policy=policy,\n",
        "                  enable_dueling_network=True, dueling_type='avg', \n",
        "                   nb_actions=actions, nb_steps_warmup=1000\n",
        "                  )\n",
        "    return dqn"
      ],
      "execution_count": 12,
      "outputs": []
    },
    {
      "cell_type": "code",
      "metadata": {
        "colab": {
          "base_uri": "https://localhost:8080/"
        },
        "id": "KSoVlgS7qC0B",
        "outputId": "775d4dbd-12c2-4d2e-a78a-9318f5070878"
      },
      "source": [
        "def train(model, nb_actions):\n",
        "  dqn = build_agent(model, nb_actions)\n",
        "\n",
        "  dqn.compile(Adam(lr=1e-3), metrics=['mae'])\n",
        "  filename = 'policy.h5'\n",
        "  dqn.fit(env,\n",
        "          nb_steps=10000,\n",
        "          log_interval=1000, visualize=False, verbose=2)\n",
        "  # After training is done, we save the final weights one more time.\n",
        "  dqn.save_weights(filename, overwrite=True)\n",
        "\n",
        "train(model=model, nb_actions=nb_actions)"
      ],
      "execution_count": null,
      "outputs": [
        {
          "output_type": "stream",
          "text": [
            "/usr/local/lib/python3.7/dist-packages/tensorflow/python/keras/optimizer_v2/optimizer_v2.py:375: UserWarning: The `lr` argument is deprecated, use `learning_rate` instead.\n",
            "  \"The `lr` argument is deprecated, use `learning_rate` instead.\")\n"
          ],
          "name": "stderr"
        },
        {
          "output_type": "stream",
          "text": [
            "Training for 100000 steps ...\n"
          ],
          "name": "stdout"
        },
        {
          "output_type": "stream",
          "text": [
            "/usr/local/lib/python3.7/dist-packages/tensorflow/python/keras/engine/training.py:2426: UserWarning: `Model.state_updates` will be removed in a future version. This property should not be used in TensorFlow 2.0, as `updates` are applied automatically.\n",
            "  warnings.warn('`Model.state_updates` will be removed in a future version. '\n"
          ],
          "name": "stderr"
        },
        {
          "output_type": "stream",
          "text": [
            "   274/100000: episode: 1, duration: 3.746s, episode steps: 274, steps per second:  73, episode reward:  2.000, mean reward:  0.007 [ 0.000,  1.000], mean action: 1.438 [0.000, 3.000],  loss: --, mae: --, mean_q: --, mean_eps: --\n",
            "   605/100000: episode: 2, duration: 4.480s, episode steps: 331, steps per second:  74, episode reward:  2.000, mean reward:  0.006 [ 0.000,  1.000], mean action: 1.517 [0.000, 3.000],  loss: --, mae: --, mean_q: --, mean_eps: --\n",
            "   779/100000: episode: 3, duration: 2.439s, episode steps: 174, steps per second:  71, episode reward:  0.000, mean reward:  0.000 [ 0.000,  0.000], mean action: 1.506 [0.000, 3.000],  loss: --, mae: --, mean_q: --, mean_eps: --\n",
            "   957/100000: episode: 4, duration: 2.476s, episode steps: 178, steps per second:  72, episode reward:  0.000, mean reward:  0.000 [ 0.000,  0.000], mean action: 1.500 [0.000, 3.000],  loss: --, mae: --, mean_q: --, mean_eps: --\n"
          ],
          "name": "stdout"
        },
        {
          "output_type": "stream",
          "text": [
            "/usr/local/lib/python3.7/dist-packages/tensorflow/python/keras/engine/training.py:2426: UserWarning: `Model.state_updates` will be removed in a future version. This property should not be used in TensorFlow 2.0, as `updates` are applied automatically.\n",
            "  warnings.warn('`Model.state_updates` will be removed in a future version. '\n"
          ],
          "name": "stderr"
        },
        {
          "output_type": "stream",
          "text": [
            "  1187/100000: episode: 5, duration: 142.785s, episode steps: 230, steps per second:   2, episode reward:  1.000, mean reward:  0.004 [ 0.000,  1.000], mean action: 1.491 [0.000, 3.000],  loss: 911.491444, mae: 69.404943, mean_q: 98.318977, mean_eps: 0.901585\n",
            "  1502/100000: episode: 6, duration: 238.566s, episode steps: 315, steps per second:   1, episode reward:  2.000, mean reward:  0.006 [ 0.000,  1.000], mean action: 1.524 [0.000, 3.000],  loss: 14.762260, mae: 67.658430, mean_q: 91.554720, mean_eps: 0.879040\n",
            "  1739/100000: episode: 7, duration: 177.731s, episode steps: 237, steps per second:   1, episode reward:  1.000, mean reward:  0.004 [ 0.000,  1.000], mean action: 1.633 [0.000, 3.000],  loss: 19.846776, mae: 67.330377, mean_q: 91.617576, mean_eps: 0.854200\n",
            "  1916/100000: episode: 8, duration: 133.405s, episode steps: 177, steps per second:   1, episode reward:  0.000, mean reward:  0.000 [ 0.000,  0.000], mean action: 1.469 [0.000, 3.000],  loss: 13.380892, mae: 67.343022, mean_q: 91.666494, mean_eps: 0.835570\n",
            "  2092/100000: episode: 9, duration: 131.419s, episode steps: 176, steps per second:   1, episode reward:  0.000, mean reward:  0.000 [ 0.000,  0.000], mean action: 1.636 [0.000, 3.000],  loss: 20.233015, mae: 67.356610, mean_q: 92.022444, mean_eps: 0.819685\n",
            "  2286/100000: episode: 10, duration: 146.131s, episode steps: 194, steps per second:   1, episode reward:  0.000, mean reward:  0.000 [ 0.000,  0.000], mean action: 1.582 [0.000, 3.000],  loss: 17.978916, mae: 67.204064, mean_q: 91.523964, mean_eps: 0.803035\n",
            "  2490/100000: episode: 11, duration: 153.269s, episode steps: 204, steps per second:   1, episode reward:  1.000, mean reward:  0.005 [ 0.000,  1.000], mean action: 1.618 [0.000, 3.000],  loss: 13.216211, mae: 67.293076, mean_q: 91.634485, mean_eps: 0.785125\n",
            "  2850/100000: episode: 12, duration: 269.772s, episode steps: 360, steps per second:   1, episode reward:  3.000, mean reward:  0.008 [ 0.000,  1.000], mean action: 1.497 [0.000, 3.000],  loss: 13.562473, mae: 67.202532, mean_q: 91.763757, mean_eps: 0.759745\n",
            "  3020/100000: episode: 13, duration: 127.382s, episode steps: 170, steps per second:   1, episode reward:  0.000, mean reward:  0.000 [ 0.000,  0.000], mean action: 1.571 [0.000, 3.000],  loss: 16.320159, mae: 67.315795, mean_q: 92.031976, mean_eps: 0.735895\n",
            "  3202/100000: episode: 14, duration: 135.078s, episode steps: 182, steps per second:   1, episode reward:  0.000, mean reward:  0.000 [ 0.000,  0.000], mean action: 1.599 [0.000, 3.000],  loss: 13.089322, mae: 67.104575, mean_q: 91.626137, mean_eps: 0.720055\n",
            "  3509/100000: episode: 15, duration: 225.994s, episode steps: 307, steps per second:   1, episode reward:  2.000, mean reward:  0.007 [ 0.000,  1.000], mean action: 1.492 [0.000, 3.000],  loss: 15.345223, mae: 67.156891, mean_q: 91.611599, mean_eps: 0.698050\n",
            "  3830/100000: episode: 16, duration: 238.191s, episode steps: 321, steps per second:   1, episode reward:  2.000, mean reward:  0.006 [ 0.000,  1.000], mean action: 1.551 [0.000, 3.000],  loss: 10.323426, mae: 67.117383, mean_q: 91.592324, mean_eps: 0.669790\n",
            "  4006/100000: episode: 17, duration: 132.077s, episode steps: 176, steps per second:   1, episode reward:  0.000, mean reward:  0.000 [ 0.000,  0.000], mean action: 1.653 [0.000, 3.000],  loss: 13.072204, mae: 67.166550, mean_q: 91.918809, mean_eps: 0.647425\n",
            "  4280/100000: episode: 18, duration: 202.971s, episode steps: 274, steps per second:   1, episode reward:  2.000, mean reward:  0.007 [ 0.000,  1.000], mean action: 1.544 [0.000, 3.000],  loss: 11.577139, mae: 67.109912, mean_q: 91.638934, mean_eps: 0.627175\n",
            "  4551/100000: episode: 19, duration: 199.712s, episode steps: 271, steps per second:   1, episode reward:  2.000, mean reward:  0.007 [ 0.000,  1.000], mean action: 1.631 [0.000, 3.000],  loss: 11.853470, mae: 67.146607, mean_q: 91.511535, mean_eps: 0.602650\n",
            "  4806/100000: episode: 20, duration: 188.148s, episode steps: 255, steps per second:   1, episode reward:  2.000, mean reward:  0.008 [ 0.000,  1.000], mean action: 1.741 [0.000, 3.000],  loss: 9.550240, mae: 67.035633, mean_q: 91.273302, mean_eps: 0.578980\n",
            "  5053/100000: episode: 21, duration: 181.650s, episode steps: 247, steps per second:   1, episode reward:  1.000, mean reward:  0.004 [ 0.000,  1.000], mean action: 1.543 [0.000, 3.000],  loss: 12.799790, mae: 67.141904, mean_q: 91.476198, mean_eps: 0.556390\n",
            "  5323/100000: episode: 22, duration: 197.743s, episode steps: 270, steps per second:   1, episode reward:  2.000, mean reward:  0.007 [ 0.000,  1.000], mean action: 1.522 [0.000, 3.000],  loss: 10.555130, mae: 67.134370, mean_q: 91.502395, mean_eps: 0.533125\n",
            "  5604/100000: episode: 23, duration: 204.717s, episode steps: 281, steps per second:   1, episode reward:  2.000, mean reward:  0.007 [ 0.000,  1.000], mean action: 1.477 [0.000, 3.000],  loss: 11.641515, mae: 67.220864, mean_q: 91.391867, mean_eps: 0.508330\n",
            "  5839/100000: episode: 24, duration: 171.083s, episode steps: 235, steps per second:   1, episode reward:  1.000, mean reward:  0.004 [ 0.000,  1.000], mean action: 1.677 [0.000, 3.000],  loss: 11.427938, mae: 67.133866, mean_q: 91.557514, mean_eps: 0.485110\n",
            "  6186/100000: episode: 25, duration: 252.060s, episode steps: 347, steps per second:   1, episode reward:  3.000, mean reward:  0.009 [ 0.000,  1.000], mean action: 1.746 [0.000, 3.000],  loss: 12.518176, mae: 67.145152, mean_q: 91.260166, mean_eps: 0.458920\n",
            "  6401/100000: episode: 26, duration: 156.519s, episode steps: 215, steps per second:   1, episode reward:  1.000, mean reward:  0.005 [ 0.000,  1.000], mean action: 1.674 [0.000, 3.000],  loss: 11.311273, mae: 67.131758, mean_q: 91.438811, mean_eps: 0.433630\n",
            "  6632/100000: episode: 27, duration: 168.132s, episode steps: 231, steps per second:   1, episode reward:  1.000, mean reward:  0.004 [ 0.000,  1.000], mean action: 1.636 [0.000, 3.000],  loss: 12.090121, mae: 67.127604, mean_q: 91.397478, mean_eps: 0.413560\n",
            "  6836/100000: episode: 28, duration: 148.471s, episode steps: 204, steps per second:   1, episode reward:  1.000, mean reward:  0.005 [ 0.000,  1.000], mean action: 1.667 [0.000, 3.000],  loss: 7.071387, mae: 67.004597, mean_q: 90.969896, mean_eps: 0.393985\n",
            "  7117/100000: episode: 29, duration: 203.566s, episode steps: 281, steps per second:   1, episode reward:  2.000, mean reward:  0.007 [ 0.000,  1.000], mean action: 1.377 [0.000, 3.000],  loss: 8.519653, mae: 67.104257, mean_q: 91.095114, mean_eps: 0.372160\n",
            "  7283/100000: episode: 30, duration: 121.964s, episode steps: 166, steps per second:   1, episode reward:  0.000, mean reward:  0.000 [ 0.000,  0.000], mean action: 1.488 [0.000, 3.000],  loss: 10.038656, mae: 67.083443, mean_q: 91.179992, mean_eps: 0.352045\n",
            "  7643/100000: episode: 31, duration: 261.395s, episode steps: 360, steps per second:   1, episode reward:  3.000, mean reward:  0.008 [ 0.000,  1.000], mean action: 1.608 [0.000, 3.000],  loss: 10.150227, mae: 67.101067, mean_q: 91.160495, mean_eps: 0.328375\n",
            "  7901/100000: episode: 32, duration: 187.124s, episode steps: 258, steps per second:   1, episode reward:  2.000, mean reward:  0.008 [ 0.000,  1.000], mean action: 1.643 [0.000, 3.000],  loss: 10.051472, mae: 67.092686, mean_q: 91.162628, mean_eps: 0.300565\n",
            "  8129/100000: episode: 33, duration: 164.932s, episode steps: 228, steps per second:   1, episode reward:  1.000, mean reward:  0.004 [ 0.000,  1.000], mean action: 1.526 [0.000, 3.000],  loss: 8.560661, mae: 67.100354, mean_q: 91.236042, mean_eps: 0.278695\n",
            "  8389/100000: episode: 34, duration: 188.249s, episode steps: 260, steps per second:   1, episode reward:  2.000, mean reward:  0.008 [ 0.000,  1.000], mean action: 1.569 [0.000, 3.000],  loss: 9.148113, mae: 67.080176, mean_q: 91.037944, mean_eps: 0.256735\n",
            "  8656/100000: episode: 35, duration: 193.784s, episode steps: 267, steps per second:   1, episode reward:  2.000, mean reward:  0.007 [ 0.000,  1.000], mean action: 1.581 [0.000, 3.000],  loss: 9.319058, mae: 67.084737, mean_q: 91.018499, mean_eps: 0.233020\n",
            "  8939/100000: episode: 36, duration: 205.324s, episode steps: 283, steps per second:   1, episode reward:  2.000, mean reward:  0.007 [ 0.000,  1.000], mean action: 1.378 [0.000, 3.000],  loss: 6.872708, mae: 67.127161, mean_q: 90.947052, mean_eps: 0.208270\n",
            "  9168/100000: episode: 37, duration: 166.031s, episode steps: 229, steps per second:   1, episode reward:  1.000, mean reward:  0.004 [ 0.000,  1.000], mean action: 1.616 [0.000, 3.000],  loss: 9.767452, mae: 67.299194, mean_q: 91.130673, mean_eps: 0.185230\n",
            "  9408/100000: episode: 38, duration: 173.842s, episode steps: 240, steps per second:   1, episode reward:  1.000, mean reward:  0.004 [ 0.000,  1.000], mean action: 1.375 [0.000, 3.000],  loss: 9.702471, mae: 67.126170, mean_q: 91.057014, mean_eps: 0.164125\n",
            "  9692/100000: episode: 39, duration: 205.891s, episode steps: 284, steps per second:   1, episode reward:  2.000, mean reward:  0.007 [ 0.000,  1.000], mean action: 1.535 [0.000, 3.000],  loss: 8.862390, mae: 67.111221, mean_q: 91.025015, mean_eps: 0.140545\n",
            "  9898/100000: episode: 40, duration: 149.593s, episode steps: 206, steps per second:   1, episode reward:  1.000, mean reward:  0.005 [ 0.000,  1.000], mean action: 1.354 [0.000, 3.000],  loss: 11.415446, mae: 67.074510, mean_q: 90.943187, mean_eps: 0.118495\n",
            " 10327/100000: episode: 41, duration: 310.400s, episode steps: 429, steps per second:   1, episode reward:  4.000, mean reward:  0.009 [ 0.000,  1.000], mean action: 2.282 [0.000, 3.000],  loss: 10.984220, mae: 67.432199, mean_q: 91.107629, mean_eps: 0.101102\n",
            " 10556/100000: episode: 42, duration: 166.149s, episode steps: 229, steps per second:   1, episode reward:  1.000, mean reward:  0.004 [ 0.000,  1.000], mean action: 1.463 [0.000, 3.000],  loss: 6.068102, mae: 67.528343, mean_q: 91.265405, mean_eps: 0.100000\n",
            " 10892/100000: episode: 43, duration: 242.892s, episode steps: 336, steps per second:   1, episode reward:  3.000, mean reward:  0.009 [ 0.000,  1.000], mean action: 1.298 [0.000, 3.000],  loss: 9.292940, mae: 67.475028, mean_q: 91.168729, mean_eps: 0.100000\n",
            " 11072/100000: episode: 44, duration: 130.352s, episode steps: 180, steps per second:   1, episode reward:  0.000, mean reward:  0.000 [ 0.000,  0.000], mean action: 1.111 [0.000, 3.000],  loss: 7.749576, mae: 67.490682, mean_q: 91.118180, mean_eps: 0.100000\n",
            " 11250/100000: episode: 45, duration: 129.307s, episode steps: 178, steps per second:   1, episode reward:  0.000, mean reward:  0.000 [ 0.000,  0.000], mean action: 1.107 [0.000, 3.000],  loss: 9.030195, mae: 67.496033, mean_q: 91.090070, mean_eps: 0.100000\n",
            " 11517/100000: episode: 46, duration: 193.324s, episode steps: 267, steps per second:   1, episode reward:  2.000, mean reward:  0.007 [ 0.000,  1.000], mean action: 1.318 [0.000, 3.000],  loss: 10.054297, mae: 67.543943, mean_q: 91.211026, mean_eps: 0.100000\n",
            " 11839/100000: episode: 47, duration: 232.416s, episode steps: 322, steps per second:   1, episode reward:  3.000, mean reward:  0.009 [ 0.000,  1.000], mean action: 1.484 [0.000, 3.000],  loss: 9.727657, mae: 67.574538, mean_q: 91.422778, mean_eps: 0.100000\n",
            " 12168/100000: episode: 48, duration: 238.266s, episode steps: 329, steps per second:   1, episode reward:  3.000, mean reward:  0.009 [ 0.000,  1.000], mean action: 1.343 [0.000, 3.000],  loss: 10.118998, mae: 67.560030, mean_q: 91.283495, mean_eps: 0.100000\n",
            " 12346/100000: episode: 49, duration: 129.148s, episode steps: 178, steps per second:   1, episode reward:  0.000, mean reward:  0.000 [ 0.000,  0.000], mean action: 1.112 [0.000, 3.000],  loss: 8.259023, mae: 67.547514, mean_q: 91.247697, mean_eps: 0.100000\n",
            " 12627/100000: episode: 50, duration: 203.815s, episode steps: 281, steps per second:   1, episode reward:  2.000, mean reward:  0.007 [ 0.000,  1.000], mean action: 1.594 [0.000, 3.000],  loss: 8.558959, mae: 67.440578, mean_q: 91.202325, mean_eps: 0.100000\n",
            " 12909/100000: episode: 51, duration: 204.185s, episode steps: 282, steps per second:   1, episode reward:  1.000, mean reward:  0.004 [ 0.000,  1.000], mean action: 1.720 [0.000, 3.000],  loss: 15.430819, mae: 67.749988, mean_q: 91.408968, mean_eps: 0.100000\n",
            " 13097/100000: episode: 52, duration: 136.436s, episode steps: 188, steps per second:   1, episode reward:  0.000, mean reward:  0.000 [ 0.000,  0.000], mean action: 1.309 [0.000, 3.000],  loss: 6.251666, mae: 67.498415, mean_q: 91.134315, mean_eps: 0.100000\n",
            " 13328/100000: episode: 53, duration: 166.787s, episode steps: 231, steps per second:   1, episode reward:  1.000, mean reward:  0.004 [ 0.000,  1.000], mean action: 1.736 [0.000, 3.000],  loss: 6.745828, mae: 67.489273, mean_q: 91.180802, mean_eps: 0.100000\n",
            " 13495/100000: episode: 54, duration: 121.088s, episode steps: 167, steps per second:   1, episode reward:  0.000, mean reward:  0.000 [ 0.000,  0.000], mean action: 1.240 [0.000, 3.000],  loss: 6.434729, mae: 67.539322, mean_q: 91.126908, mean_eps: 0.100000\n",
            " 13898/100000: episode: 55, duration: 291.095s, episode steps: 403, steps per second:   1, episode reward:  4.000, mean reward:  0.010 [ 0.000,  1.000], mean action: 1.213 [0.000, 3.000],  loss: 8.325508, mae: 67.545699, mean_q: 91.260022, mean_eps: 0.100000\n",
            " 14072/100000: episode: 56, duration: 126.059s, episode steps: 174, steps per second:   1, episode reward:  0.000, mean reward:  0.000 [ 0.000,  0.000], mean action: 1.557 [0.000, 3.000],  loss: 8.543658, mae: 67.450327, mean_q: 91.245944, mean_eps: 0.100000\n",
            " 14406/100000: episode: 57, duration: 241.596s, episode steps: 334, steps per second:   1, episode reward:  3.000, mean reward:  0.009 [ 0.000,  1.000], mean action: 1.299 [0.000, 3.000],  loss: 5.640264, mae: 67.616898, mean_q: 91.305296, mean_eps: 0.100000\n",
            " 14592/100000: episode: 58, duration: 135.196s, episode steps: 186, steps per second:   1, episode reward:  0.000, mean reward:  0.000 [ 0.000,  0.000], mean action: 1.220 [0.000, 3.000],  loss: 8.013847, mae: 67.663517, mean_q: 91.304214, mean_eps: 0.100000\n",
            " 14840/100000: episode: 59, duration: 179.413s, episode steps: 248, steps per second:   1, episode reward:  1.000, mean reward:  0.004 [ 0.000,  1.000], mean action: 1.440 [0.000, 3.000],  loss: 7.716742, mae: 67.689385, mean_q: 91.367210, mean_eps: 0.100000\n",
            " 15023/100000: episode: 60, duration: 132.967s, episode steps: 183, steps per second:   1, episode reward:  0.000, mean reward:  0.000 [ 0.000,  0.000], mean action: 1.421 [0.000, 3.000],  loss: 7.923436, mae: 67.520662, mean_q: 91.145427, mean_eps: 0.100000\n",
            " 15269/100000: episode: 61, duration: 178.123s, episode steps: 246, steps per second:   1, episode reward:  2.000, mean reward:  0.008 [ 0.000,  1.000], mean action: 1.309 [0.000, 3.000],  loss: 9.237994, mae: 67.540700, mean_q: 91.262259, mean_eps: 0.100000\n",
            " 15449/100000: episode: 62, duration: 130.814s, episode steps: 180, steps per second:   1, episode reward:  0.000, mean reward:  0.000 [ 0.000,  0.000], mean action: 1.694 [0.000, 3.000],  loss: 8.386852, mae: 67.567225, mean_q: 91.188220, mean_eps: 0.100000\n",
            " 15763/100000: episode: 63, duration: 226.769s, episode steps: 314, steps per second:   1, episode reward:  2.000, mean reward:  0.006 [ 0.000,  1.000], mean action: 1.392 [0.000, 3.000],  loss: 5.881003, mae: 67.570274, mean_q: 91.081497, mean_eps: 0.100000\n",
            " 16073/100000: episode: 64, duration: 223.861s, episode steps: 310, steps per second:   1, episode reward:  3.000, mean reward:  0.010 [ 0.000,  1.000], mean action: 1.410 [0.000, 3.000],  loss: 6.094811, mae: 67.723422, mean_q: 91.238060, mean_eps: 0.100000\n",
            " 16383/100000: episode: 65, duration: 224.097s, episode steps: 310, steps per second:   1, episode reward:  2.000, mean reward:  0.006 [ 0.000,  1.000], mean action: 1.510 [0.000, 3.000],  loss: 8.692813, mae: 67.553875, mean_q: 91.162890, mean_eps: 0.100000\n",
            " 16618/100000: episode: 66, duration: 170.149s, episode steps: 235, steps per second:   1, episode reward:  1.000, mean reward:  0.004 [ 0.000,  1.000], mean action: 1.672 [0.000, 3.000],  loss: 8.829718, mae: 67.484076, mean_q: 91.037537, mean_eps: 0.100000\n",
            " 16971/100000: episode: 67, duration: 255.384s, episode steps: 353, steps per second:   1, episode reward:  3.000, mean reward:  0.008 [ 0.000,  1.000], mean action: 2.096 [0.000, 3.000],  loss: 8.500488, mae: 67.606312, mean_q: 91.119102, mean_eps: 0.100000\n",
            " 17137/100000: episode: 68, duration: 120.327s, episode steps: 166, steps per second:   1, episode reward:  0.000, mean reward:  0.000 [ 0.000,  0.000], mean action: 1.301 [0.000, 3.000],  loss: 8.420168, mae: 67.607924, mean_q: 91.115262, mean_eps: 0.100000\n",
            " 17313/100000: episode: 69, duration: 127.502s, episode steps: 176, steps per second:   1, episode reward:  0.000, mean reward:  0.000 [ 0.000,  0.000], mean action: 1.392 [0.000, 3.000],  loss: 6.522486, mae: 67.459483, mean_q: 90.849370, mean_eps: 0.100000\n",
            " 17657/100000: episode: 70, duration: 248.179s, episode steps: 344, steps per second:   1, episode reward:  3.000, mean reward:  0.009 [ 0.000,  1.000], mean action: 1.459 [0.000, 3.000],  loss: 7.964589, mae: 67.635420, mean_q: 91.105513, mean_eps: 0.100000\n",
            " 17939/100000: episode: 71, duration: 204.072s, episode steps: 282, steps per second:   1, episode reward:  2.000, mean reward:  0.007 [ 0.000,  1.000], mean action: 1.674 [0.000, 3.000],  loss: 7.880336, mae: 67.522214, mean_q: 91.029104, mean_eps: 0.100000\n",
            " 18125/100000: episode: 72, duration: 134.739s, episode steps: 186, steps per second:   1, episode reward:  0.000, mean reward:  0.000 [ 0.000,  0.000], mean action: 1.586 [0.000, 3.000],  loss: 6.609444, mae: 67.735736, mean_q: 91.160262, mean_eps: 0.100000\n",
            " 18481/100000: episode: 73, duration: 257.474s, episode steps: 356, steps per second:   1, episode reward:  3.000, mean reward:  0.008 [ 0.000,  1.000], mean action: 1.402 [0.000, 3.000],  loss: 7.904545, mae: 67.590884, mean_q: 91.060812, mean_eps: 0.100000\n",
            " 18756/100000: episode: 74, duration: 200.721s, episode steps: 275, steps per second:   1, episode reward:  2.000, mean reward:  0.007 [ 0.000,  1.000], mean action: 1.524 [0.000, 3.000],  loss: 6.093509, mae: 67.667905, mean_q: 91.196756, mean_eps: 0.100000\n",
            " 19184/100000: episode: 75, duration: 309.571s, episode steps: 428, steps per second:   1, episode reward:  4.000, mean reward:  0.009 [ 0.000,  1.000], mean action: 1.495 [0.000, 3.000],  loss: 8.037257, mae: 67.694767, mean_q: 91.129726, mean_eps: 0.100000\n",
            " 19426/100000: episode: 76, duration: 176.090s, episode steps: 242, steps per second:   1, episode reward:  1.000, mean reward:  0.004 [ 0.000,  1.000], mean action: 1.364 [0.000, 3.000],  loss: 7.631527, mae: 67.603939, mean_q: 91.131861, mean_eps: 0.100000\n",
            " 19625/100000: episode: 77, duration: 145.382s, episode steps: 199, steps per second:   1, episode reward:  0.000, mean reward:  0.000 [ 0.000,  0.000], mean action: 1.296 [0.000, 3.000],  loss: 6.164056, mae: 67.659745, mean_q: 91.233054, mean_eps: 0.100000\n",
            " 19891/100000: episode: 78, duration: 194.728s, episode steps: 266, steps per second:   1, episode reward:  2.000, mean reward:  0.008 [ 0.000,  1.000], mean action: 1.425 [0.000, 3.000],  loss: 8.356469, mae: 67.655605, mean_q: 91.036599, mean_eps: 0.100000\n",
            " 20133/100000: episode: 79, duration: 177.307s, episode steps: 242, steps per second:   1, episode reward:  2.000, mean reward:  0.008 [ 0.000,  1.000], mean action: 1.967 [0.000, 3.000],  loss: 8.159238, mae: 67.948441, mean_q: 91.363743, mean_eps: 0.100000\n",
            " 20403/100000: episode: 80, duration: 199.087s, episode steps: 270, steps per second:   1, episode reward:  2.000, mean reward:  0.007 [ 0.000,  1.000], mean action: 1.433 [0.000, 3.000],  loss: 7.492082, mae: 68.462925, mean_q: 92.061185, mean_eps: 0.100000\n",
            " 20581/100000: episode: 81, duration: 131.092s, episode steps: 178, steps per second:   1, episode reward:  0.000, mean reward:  0.000 [ 0.000,  0.000], mean action: 1.393 [0.000, 3.000],  loss: 6.305467, mae: 68.316576, mean_q: 91.908876, mean_eps: 0.100000\n",
            " 20747/100000: episode: 82, duration: 124.514s, episode steps: 166, steps per second:   1, episode reward:  0.000, mean reward:  0.000 [ 0.000,  0.000], mean action: 1.349 [0.000, 3.000],  loss: 6.801691, mae: 68.455567, mean_q: 92.053572, mean_eps: 0.100000\n",
            " 21101/100000: episode: 83, duration: 259.597s, episode steps: 354, steps per second:   1, episode reward:  2.000, mean reward:  0.006 [ 0.000,  1.000], mean action: 1.782 [0.000, 3.000],  loss: 8.694744, mae: 68.435018, mean_q: 91.982186, mean_eps: 0.100000\n",
            " 21272/100000: episode: 84, duration: 126.597s, episode steps: 171, steps per second:   1, episode reward:  0.000, mean reward:  0.000 [ 0.000,  0.000], mean action: 1.567 [0.000, 3.000],  loss: 11.609794, mae: 68.293759, mean_q: 91.796795, mean_eps: 0.100000\n",
            " 21449/100000: episode: 85, duration: 130.244s, episode steps: 177, steps per second:   1, episode reward:  0.000, mean reward:  0.000 [ 0.000,  0.000], mean action: 1.169 [0.000, 3.000],  loss: 8.145725, mae: 68.465033, mean_q: 91.947857, mean_eps: 0.100000\n",
            " 21714/100000: episode: 86, duration: 195.166s, episode steps: 265, steps per second:   1, episode reward:  2.000, mean reward:  0.008 [ 0.000,  1.000], mean action: 1.525 [0.000, 3.000],  loss: 7.723399, mae: 68.427112, mean_q: 91.985155, mean_eps: 0.100000\n",
            " 22012/100000: episode: 87, duration: 218.596s, episode steps: 298, steps per second:   1, episode reward:  2.000, mean reward:  0.007 [ 0.000,  1.000], mean action: 1.312 [0.000, 3.000],  loss: 7.041167, mae: 68.353061, mean_q: 91.888731, mean_eps: 0.100000\n",
            " 22486/100000: episode: 88, duration: 344.297s, episode steps: 474, steps per second:   1, episode reward:  5.000, mean reward:  0.011 [ 0.000,  1.000], mean action: 1.454 [0.000, 3.000],  loss: 6.431753, mae: 68.470927, mean_q: 92.014467, mean_eps: 0.100000\n",
            " 22779/100000: episode: 89, duration: 212.285s, episode steps: 293, steps per second:   1, episode reward:  2.000, mean reward:  0.007 [ 0.000,  1.000], mean action: 1.502 [0.000, 3.000],  loss: 5.991952, mae: 68.389690, mean_q: 91.858438, mean_eps: 0.100000\n",
            " 23024/100000: episode: 90, duration: 177.495s, episode steps: 245, steps per second:   1, episode reward:  1.000, mean reward:  0.004 [ 0.000,  1.000], mean action: 1.392 [0.000, 3.000],  loss: 8.585284, mae: 68.358598, mean_q: 91.919194, mean_eps: 0.100000\n",
            " 23197/100000: episode: 91, duration: 125.305s, episode steps: 173, steps per second:   1, episode reward:  0.000, mean reward:  0.000 [ 0.000,  0.000], mean action: 1.474 [0.000, 3.000],  loss: 10.303909, mae: 68.359297, mean_q: 92.026854, mean_eps: 0.100000\n",
            " 23419/100000: episode: 92, duration: 160.798s, episode steps: 222, steps per second:   1, episode reward:  1.000, mean reward:  0.005 [ 0.000,  1.000], mean action: 1.396 [0.000, 3.000],  loss: 7.879879, mae: 68.477117, mean_q: 92.186951, mean_eps: 0.100000\n",
            " 23601/100000: episode: 93, duration: 132.063s, episode steps: 182, steps per second:   1, episode reward:  0.000, mean reward:  0.000 [ 0.000,  0.000], mean action: 1.473 [0.000, 3.000],  loss: 6.785947, mae: 68.385030, mean_q: 91.919014, mean_eps: 0.100000\n",
            " 23883/100000: episode: 94, duration: 203.914s, episode steps: 282, steps per second:   1, episode reward:  2.000, mean reward:  0.007 [ 0.000,  1.000], mean action: 1.234 [0.000, 3.000],  loss: 7.552297, mae: 68.370454, mean_q: 91.808931, mean_eps: 0.100000\n",
            " 24312/100000: episode: 95, duration: 309.964s, episode steps: 429, steps per second:   1, episode reward:  5.000, mean reward:  0.012 [ 0.000,  1.000], mean action: 1.317 [0.000, 3.000],  loss: 6.839992, mae: 68.373892, mean_q: 91.886477, mean_eps: 0.100000\n",
            " 24562/100000: episode: 96, duration: 181.323s, episode steps: 250, steps per second:   1, episode reward:  1.000, mean reward:  0.004 [ 0.000,  1.000], mean action: 1.816 [0.000, 3.000],  loss: 9.615341, mae: 68.286857, mean_q: 91.818179, mean_eps: 0.100000\n",
            " 24826/100000: episode: 97, duration: 191.009s, episode steps: 264, steps per second:   1, episode reward:  2.000, mean reward:  0.008 [ 0.000,  1.000], mean action: 1.489 [0.000, 3.000],  loss: 6.876143, mae: 68.375763, mean_q: 91.877731, mean_eps: 0.100000\n",
            " 25173/100000: episode: 98, duration: 250.997s, episode steps: 347, steps per second:   1, episode reward:  3.000, mean reward:  0.009 [ 0.000,  1.000], mean action: 1.334 [0.000, 3.000],  loss: 6.863181, mae: 68.390067, mean_q: 92.053255, mean_eps: 0.100000\n",
            " 25390/100000: episode: 99, duration: 157.456s, episode steps: 217, steps per second:   1, episode reward:  1.000, mean reward:  0.005 [ 0.000,  1.000], mean action: 1.677 [0.000, 3.000],  loss: 6.870853, mae: 68.358499, mean_q: 91.923838, mean_eps: 0.100000\n",
            " 25660/100000: episode: 100, duration: 195.742s, episode steps: 270, steps per second:   1, episode reward:  2.000, mean reward:  0.007 [ 0.000,  1.000], mean action: 1.356 [0.000, 3.000],  loss: 5.803530, mae: 68.479246, mean_q: 91.930915, mean_eps: 0.100000\n",
            " 25941/100000: episode: 101, duration: 203.579s, episode steps: 281, steps per second:   1, episode reward:  2.000, mean reward:  0.007 [ 0.000,  1.000], mean action: 1.359 [0.000, 3.000],  loss: 9.465483, mae: 68.331992, mean_q: 91.966711, mean_eps: 0.100000\n",
            " 26229/100000: episode: 102, duration: 208.992s, episode steps: 288, steps per second:   1, episode reward:  2.000, mean reward:  0.007 [ 0.000,  1.000], mean action: 1.569 [0.000, 3.000],  loss: 6.032998, mae: 68.429897, mean_q: 92.123643, mean_eps: 0.100000\n",
            " 26507/100000: episode: 103, duration: 201.152s, episode steps: 278, steps per second:   1, episode reward:  2.000, mean reward:  0.007 [ 0.000,  1.000], mean action: 1.727 [0.000, 3.000],  loss: 7.140346, mae: 68.380225, mean_q: 91.998261, mean_eps: 0.100000\n",
            " 26698/100000: episode: 104, duration: 138.415s, episode steps: 191, steps per second:   1, episode reward:  0.000, mean reward:  0.000 [ 0.000,  0.000], mean action: 1.450 [0.000, 3.000],  loss: 8.541674, mae: 68.437271, mean_q: 91.954681, mean_eps: 0.100000\n",
            " 26864/100000: episode: 105, duration: 120.929s, episode steps: 166, steps per second:   1, episode reward:  0.000, mean reward:  0.000 [ 0.000,  0.000], mean action: 1.349 [0.000, 3.000],  loss: 7.514370, mae: 68.342847, mean_q: 91.930611, mean_eps: 0.100000\n",
            " 27099/100000: episode: 106, duration: 170.837s, episode steps: 235, steps per second:   1, episode reward:  1.000, mean reward:  0.004 [ 0.000,  1.000], mean action: 1.681 [0.000, 3.000],  loss: 8.337113, mae: 68.535178, mean_q: 92.008473, mean_eps: 0.100000\n",
            " 27465/100000: episode: 107, duration: 264.491s, episode steps: 366, steps per second:   1, episode reward:  3.000, mean reward:  0.008 [ 0.000,  1.000], mean action: 1.467 [0.000, 3.000],  loss: 6.409914, mae: 68.349559, mean_q: 91.861567, mean_eps: 0.100000\n",
            " 27747/100000: episode: 108, duration: 204.042s, episode steps: 282, steps per second:   1, episode reward:  2.000, mean reward:  0.007 [ 0.000,  1.000], mean action: 1.571 [0.000, 3.000],  loss: 6.916114, mae: 68.388726, mean_q: 91.921164, mean_eps: 0.100000\n",
            " 28169/100000: episode: 109, duration: 305.545s, episode steps: 422, steps per second:   1, episode reward:  4.000, mean reward:  0.009 [ 0.000,  1.000], mean action: 1.282 [0.000, 3.000],  loss: 6.645409, mae: 68.378371, mean_q: 91.963376, mean_eps: 0.100000\n",
            " 28419/100000: episode: 110, duration: 180.863s, episode steps: 250, steps per second:   1, episode reward:  1.000, mean reward:  0.004 [ 0.000,  1.000], mean action: 1.520 [0.000, 3.000],  loss: 6.548871, mae: 68.439016, mean_q: 91.980032, mean_eps: 0.100000\n",
            " 28715/100000: episode: 111, duration: 214.408s, episode steps: 296, steps per second:   1, episode reward:  2.000, mean reward:  0.007 [ 0.000,  1.000], mean action: 1.561 [0.000, 3.000],  loss: 6.555405, mae: 68.475105, mean_q: 92.033877, mean_eps: 0.100000\n",
            " 28902/100000: episode: 112, duration: 135.872s, episode steps: 187, steps per second:   1, episode reward:  0.000, mean reward:  0.000 [ 0.000,  0.000], mean action: 1.786 [0.000, 3.000],  loss: 10.394015, mae: 68.470602, mean_q: 92.007326, mean_eps: 0.100000\n",
            " 29154/100000: episode: 113, duration: 182.641s, episode steps: 252, steps per second:   1, episode reward:  1.000, mean reward:  0.004 [ 0.000,  1.000], mean action: 1.722 [0.000, 3.000],  loss: 8.092361, mae: 68.448579, mean_q: 91.863412, mean_eps: 0.100000\n",
            " 29423/100000: episode: 114, duration: 195.153s, episode steps: 269, steps per second:   1, episode reward:  2.000, mean reward:  0.007 [ 0.000,  1.000], mean action: 1.658 [0.000, 3.000],  loss: 8.606890, mae: 68.475721, mean_q: 91.964318, mean_eps: 0.100000\n",
            " 29602/100000: episode: 115, duration: 129.923s, episode steps: 179, steps per second:   1, episode reward:  0.000, mean reward:  0.000 [ 0.000,  0.000], mean action: 1.503 [0.000, 3.000],  loss: 7.674061, mae: 68.294423, mean_q: 91.846902, mean_eps: 0.100000\n",
            " 29877/100000: episode: 116, duration: 198.975s, episode steps: 275, steps per second:   1, episode reward:  2.000, mean reward:  0.007 [ 0.000,  1.000], mean action: 1.175 [0.000, 3.000],  loss: 8.088034, mae: 68.362832, mean_q: 91.902579, mean_eps: 0.100000\n",
            " 30167/100000: episode: 117, duration: 209.718s, episode steps: 290, steps per second:   1, episode reward:  2.000, mean reward:  0.007 [ 0.000,  1.000], mean action: 1.262 [0.000, 3.000],  loss: 7.923669, mae: 68.764473, mean_q: 92.300600, mean_eps: 0.100000\n",
            " 30408/100000: episode: 118, duration: 174.632s, episode steps: 241, steps per second:   1, episode reward:  2.000, mean reward:  0.008 [ 0.000,  1.000], mean action: 1.635 [0.000, 3.000],  loss: 9.976100, mae: 68.834392, mean_q: 92.381057, mean_eps: 0.100000\n",
            " 30768/100000: episode: 119, duration: 260.186s, episode steps: 360, steps per second:   1, episode reward:  3.000, mean reward:  0.008 [ 0.000,  1.000], mean action: 1.231 [0.000, 3.000],  loss: 8.339951, mae: 68.853559, mean_q: 92.488487, mean_eps: 0.100000\n",
            " 31042/100000: episode: 120, duration: 198.144s, episode steps: 274, steps per second:   1, episode reward:  2.000, mean reward:  0.007 [ 0.000,  1.000], mean action: 1.544 [0.000, 3.000],  loss: 6.923771, mae: 68.850428, mean_q: 92.415453, mean_eps: 0.100000\n",
            " 31208/100000: episode: 121, duration: 121.272s, episode steps: 166, steps per second:   1, episode reward:  0.000, mean reward:  0.000 [ 0.000,  0.000], mean action: 1.181 [0.000, 3.000],  loss: 8.740156, mae: 68.779625, mean_q: 92.381551, mean_eps: 0.100000\n",
            " 31585/100000: episode: 122, duration: 273.026s, episode steps: 377, steps per second:   1, episode reward:  3.000, mean reward:  0.008 [ 0.000,  1.000], mean action: 1.300 [0.000, 3.000],  loss: 7.530388, mae: 68.859875, mean_q: 92.469805, mean_eps: 0.100000\n",
            " 32002/100000: episode: 123, duration: 301.479s, episode steps: 417, steps per second:   1, episode reward:  5.000, mean reward:  0.012 [ 0.000,  1.000], mean action: 1.336 [0.000, 3.000],  loss: 5.831595, mae: 68.954449, mean_q: 92.634026, mean_eps: 0.100000\n",
            " 32169/100000: episode: 124, duration: 121.277s, episode steps: 167, steps per second:   1, episode reward:  0.000, mean reward:  0.000 [ 0.000,  0.000], mean action: 1.090 [0.000, 3.000],  loss: 7.318031, mae: 68.900500, mean_q: 92.546884, mean_eps: 0.100000\n",
            " 32335/100000: episode: 125, duration: 120.851s, episode steps: 166, steps per second:   1, episode reward:  0.000, mean reward:  0.000 [ 0.000,  0.000], mean action: 1.187 [0.000, 3.000],  loss: 7.456872, mae: 68.940764, mean_q: 92.566061, mean_eps: 0.100000\n",
            " 32587/100000: episode: 126, duration: 183.528s, episode steps: 252, steps per second:   1, episode reward:  1.000, mean reward:  0.004 [ 0.000,  1.000], mean action: 1.464 [0.000, 3.000],  loss: 6.825059, mae: 69.007803, mean_q: 92.703229, mean_eps: 0.100000\n",
            " 32856/100000: episode: 127, duration: 194.701s, episode steps: 269, steps per second:   1, episode reward:  2.000, mean reward:  0.007 [ 0.000,  1.000], mean action: 1.680 [0.000, 3.000],  loss: 7.653182, mae: 68.916573, mean_q: 92.633196, mean_eps: 0.100000\n",
            " 33288/100000: episode: 128, duration: 312.411s, episode steps: 432, steps per second:   1, episode reward:  5.000, mean reward:  0.012 [ 0.000,  1.000], mean action: 1.683 [0.000, 3.000],  loss: 6.562382, mae: 68.914857, mean_q: 92.550287, mean_eps: 0.100000\n",
            " 33549/100000: episode: 129, duration: 189.173s, episode steps: 261, steps per second:   1, episode reward:  2.000, mean reward:  0.008 [ 0.000,  1.000], mean action: 1.866 [0.000, 3.000],  loss: 6.732700, mae: 68.908693, mean_q: 92.631767, mean_eps: 0.100000\n",
            " 33715/100000: episode: 130, duration: 121.725s, episode steps: 166, steps per second:   1, episode reward:  0.000, mean reward:  0.000 [ 0.000,  0.000], mean action: 1.265 [0.000, 3.000],  loss: 6.289609, mae: 68.768455, mean_q: 92.357269, mean_eps: 0.100000\n"
          ],
          "name": "stdout"
        }
      ]
    },
    {
      "cell_type": "code",
      "metadata": {
        "id": "i2tqJ2G6txYW"
      },
      "source": [
        "!pip install colabgymrender\n",
        "from colabgymrender.recorder import Recorder\n",
        "\n",
        "def play(model, nb_actions):\n",
        "  dqn = build_agent(model, nb_actions)\n",
        "  dqn.load_weights(weights_filename)\n",
        "  dqn.test(env, nb_episodes=10, visualize=True)\n",
        "\n",
        "  \"\"\"recorde and visualization the game\"\"\"\n",
        "  directory = './video'\n",
        "  env = Recorder(env, directory)\n",
        "\n",
        "  observation = env.reset()\n",
        "  terminal = False\n",
        "  while not terminal:\n",
        "    action = env.action_space.sample()\n",
        "    observation, reward, terminal, info = env.step(action)\n",
        "  env.play()\n",
        "\n",
        "play(model=model, nb_actions=nb_actions)"
      ],
      "execution_count": null,
      "outputs": []
    }
  ]
}